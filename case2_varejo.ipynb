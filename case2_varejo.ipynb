{
  "cells": [
    {
      "cell_type": "markdown",
      "metadata": {
        "id": "view-in-github",
        "colab_type": "text"
      },
      "source": [
        "<a href=\"https://colab.research.google.com/github/AlessandroFMoura/pandas_libraries/blob/master/case2_varejo.ipynb\" target=\"_parent\"><img src=\"https://colab.research.google.com/assets/colab-badge.svg\" alt=\"Open In Colab\"/></a>"
      ]
    },
    {
      "cell_type": "markdown",
      "metadata": {
        "id": "FZgMqtn4grtI"
      },
      "source": [
        "# Loja de Varejo"
      ]
    },
    {
      "cell_type": "markdown",
      "metadata": {
        "id": "IAd6dy_xgrtJ"
      },
      "source": [
        "## Imports"
      ]
    },
    {
      "cell_type": "code",
      "execution_count": null,
      "metadata": {
        "id": "rF333_afgrtJ"
      },
      "outputs": [],
      "source": [
        "import pandas as pd\n",
        "import seaborn as sns"
      ]
    },
    {
      "cell_type": "markdown",
      "metadata": {
        "id": "mU9Rlti7grtK"
      },
      "source": [
        "### Importando DataFrame"
      ]
    },
    {
      "cell_type": "code",
      "execution_count": null,
      "metadata": {
        "id": "pLTaajwRgrtK",
        "outputId": "861f4ce6-db9d-4ae8-d6b7-c03e756b41b5"
      },
      "outputs": [
        {
          "data": {
            "text/html": [
              "<div>\n",
              "<style scoped>\n",
              "    .dataframe tbody tr th:only-of-type {\n",
              "        vertical-align: middle;\n",
              "    }\n",
              "\n",
              "    .dataframe tbody tr th {\n",
              "        vertical-align: top;\n",
              "    }\n",
              "\n",
              "    .dataframe thead th {\n",
              "        text-align: right;\n",
              "    }\n",
              "</style>\n",
              "<table border=\"1\" class=\"dataframe\">\n",
              "  <thead>\n",
              "    <tr style=\"text-align: right;\">\n",
              "      <th></th>\n",
              "      <th>idcompra</th>\n",
              "      <th>idcanalvenda</th>\n",
              "      <th>bandeira</th>\n",
              "      <th>Data</th>\n",
              "      <th>Preço</th>\n",
              "      <th>Preço_com_frete</th>\n",
              "      <th>Nome_Departamento</th>\n",
              "      <th>estado</th>\n",
              "      <th>cliente_Log</th>\n",
              "    </tr>\n",
              "  </thead>\n",
              "  <tbody>\n",
              "    <tr>\n",
              "      <th>0</th>\n",
              "      <td>393835</td>\n",
              "      <td>Mobile</td>\n",
              "      <td>A</td>\n",
              "      <td>2023-03-05</td>\n",
              "      <td>1582.560</td>\n",
              "      <td>791.280</td>\n",
              "      <td>Telefones e Celulares</td>\n",
              "      <td>SP</td>\n",
              "      <td>15042</td>\n",
              "    </tr>\n",
              "    <tr>\n",
              "      <th>1</th>\n",
              "      <td>411885</td>\n",
              "      <td>Mobile</td>\n",
              "      <td>A</td>\n",
              "      <td>2023-03-17</td>\n",
              "      <td>679.200</td>\n",
              "      <td>679.200</td>\n",
              "      <td>Tablets</td>\n",
              "      <td>SP</td>\n",
              "      <td>17590</td>\n",
              "    </tr>\n",
              "    <tr>\n",
              "      <th>2</th>\n",
              "      <td>437305</td>\n",
              "      <td>Mobile</td>\n",
              "      <td>A</td>\n",
              "      <td>2023-03-06</td>\n",
              "      <td>35.920</td>\n",
              "      <td>37.512</td>\n",
              "      <td>Bebes</td>\n",
              "      <td>SP</td>\n",
              "      <td>15478</td>\n",
              "    </tr>\n",
              "    <tr>\n",
              "      <th>3</th>\n",
              "      <td>440055</td>\n",
              "      <td>APP</td>\n",
              "      <td>A</td>\n",
              "      <td>2023-01-13</td>\n",
              "      <td>2239.416</td>\n",
              "      <td>2239.416</td>\n",
              "      <td>TVs e Acessorios</td>\n",
              "      <td>SP</td>\n",
              "      <td>2933</td>\n",
              "    </tr>\n",
              "    <tr>\n",
              "      <th>4</th>\n",
              "      <td>455795</td>\n",
              "      <td>Mobile</td>\n",
              "      <td>B</td>\n",
              "      <td>2023-03-31</td>\n",
              "      <td>1743.200</td>\n",
              "      <td>1785.112</td>\n",
              "      <td>Esporte e Lazer</td>\n",
              "      <td>RS</td>\n",
              "      <td>19790</td>\n",
              "    </tr>\n",
              "  </tbody>\n",
              "</table>\n",
              "</div>"
            ],
            "text/plain": [
              "   idcompra idcanalvenda bandeira       Data     Preço  Preço_com_frete  \\\n",
              "0    393835       Mobile        A 2023-03-05  1582.560          791.280   \n",
              "1    411885       Mobile        A 2023-03-17   679.200          679.200   \n",
              "2    437305       Mobile        A 2023-03-06    35.920           37.512   \n",
              "3    440055          APP        A 2023-01-13  2239.416         2239.416   \n",
              "4    455795       Mobile        B 2023-03-31  1743.200         1785.112   \n",
              "\n",
              "       Nome_Departamento estado  cliente_Log  \n",
              "0  Telefones e Celulares     SP        15042  \n",
              "1                Tablets     SP        17590  \n",
              "2                  Bebes     SP        15478  \n",
              "3       TVs e Acessorios     SP         2933  \n",
              "4        Esporte e Lazer     RS        19790  "
            ]
          },
          "execution_count": 2,
          "metadata": {},
          "output_type": "execute_result"
        }
      ],
      "source": [
        "vendas = pd.read_excel('H:\\\\ESTUDOS\\\\AnaliseDeDADOS\\\\python\\\\DNC\\\\python\\\\material\\\\Colabs e Datasets\\\\varejo.xlsx')\n",
        "vendas.head()"
      ]
    },
    {
      "cell_type": "code",
      "execution_count": null,
      "metadata": {
        "id": "6YmDTeQmgrtL",
        "outputId": "db30e09f-7608-4b60-e170-7dc3e2569e3e"
      },
      "outputs": [
        {
          "name": "stdout",
          "output_type": "stream",
          "text": [
            "<class 'pandas.core.frame.DataFrame'>\n",
            "RangeIndex: 80228 entries, 0 to 80227\n",
            "Data columns (total 9 columns):\n",
            " #   Column             Non-Null Count  Dtype         \n",
            "---  ------             --------------  -----         \n",
            " 0   idcompra           80228 non-null  int64         \n",
            " 1   idcanalvenda       80228 non-null  object        \n",
            " 2   bandeira           80228 non-null  object        \n",
            " 3   Data               80228 non-null  datetime64[ns]\n",
            " 4   Preço              79926 non-null  float64       \n",
            " 5   Preço_com_frete    80228 non-null  float64       \n",
            " 6   Nome_Departamento  80228 non-null  object        \n",
            " 7   estado             79926 non-null  object        \n",
            " 8   cliente_Log        80228 non-null  int64         \n",
            "dtypes: datetime64[ns](1), float64(2), int64(2), object(4)\n",
            "memory usage: 5.5+ MB\n"
          ]
        }
      ],
      "source": [
        "vendas.info()"
      ]
    },
    {
      "cell_type": "code",
      "execution_count": null,
      "metadata": {
        "id": "Dpyp_tQ7grtL",
        "outputId": "36324fb1-7f3a-4740-d390-0717266dc997"
      },
      "outputs": [
        {
          "data": {
            "text/html": [
              "<div>\n",
              "<style scoped>\n",
              "    .dataframe tbody tr th:only-of-type {\n",
              "        vertical-align: middle;\n",
              "    }\n",
              "\n",
              "    .dataframe tbody tr th {\n",
              "        vertical-align: top;\n",
              "    }\n",
              "\n",
              "    .dataframe thead th {\n",
              "        text-align: right;\n",
              "    }\n",
              "</style>\n",
              "<table border=\"1\" class=\"dataframe\">\n",
              "  <thead>\n",
              "    <tr style=\"text-align: right;\">\n",
              "      <th></th>\n",
              "      <th>idcompra</th>\n",
              "      <th>idcanalvenda</th>\n",
              "      <th>bandeira</th>\n",
              "      <th>Data</th>\n",
              "      <th>Preço</th>\n",
              "      <th>Preço_com_frete</th>\n",
              "      <th>Nome_Departamento</th>\n",
              "      <th>estado</th>\n",
              "      <th>cliente_Log</th>\n",
              "    </tr>\n",
              "  </thead>\n",
              "  <tbody>\n",
              "    <tr>\n",
              "      <th>96</th>\n",
              "      <td>382380</td>\n",
              "      <td>Internet</td>\n",
              "      <td>A</td>\n",
              "      <td>2023-04-26</td>\n",
              "      <td>NaN</td>\n",
              "      <td>879.200</td>\n",
              "      <td>Telefones e Celulares</td>\n",
              "      <td>NaN</td>\n",
              "      <td>5804</td>\n",
              "    </tr>\n",
              "    <tr>\n",
              "      <th>284</th>\n",
              "      <td>346055</td>\n",
              "      <td>Internet</td>\n",
              "      <td>A</td>\n",
              "      <td>2023-03-23</td>\n",
              "      <td>NaN</td>\n",
              "      <td>87.648</td>\n",
              "      <td>Ar e Ventilacao</td>\n",
              "      <td>NaN</td>\n",
              "      <td>16359</td>\n",
              "    </tr>\n",
              "    <tr>\n",
              "      <th>402</th>\n",
              "      <td>172555</td>\n",
              "      <td>Mobile</td>\n",
              "      <td>A</td>\n",
              "      <td>2023-03-19</td>\n",
              "      <td>NaN</td>\n",
              "      <td>135.840</td>\n",
              "      <td>Ar e Ventilacao</td>\n",
              "      <td>NaN</td>\n",
              "      <td>13691</td>\n",
              "    </tr>\n",
              "    <tr>\n",
              "      <th>411</th>\n",
              "      <td>446380</td>\n",
              "      <td>Mobile</td>\n",
              "      <td>A</td>\n",
              "      <td>2023-03-09</td>\n",
              "      <td>NaN</td>\n",
              "      <td>1703.120</td>\n",
              "      <td>Eletrodomesticos</td>\n",
              "      <td>NaN</td>\n",
              "      <td>13024</td>\n",
              "    </tr>\n",
              "    <tr>\n",
              "      <th>770</th>\n",
              "      <td>40425</td>\n",
              "      <td>Mobile</td>\n",
              "      <td>B</td>\n",
              "      <td>2023-04-21</td>\n",
              "      <td>NaN</td>\n",
              "      <td>1759.200</td>\n",
              "      <td>Telefones e Celulares</td>\n",
              "      <td>NaN</td>\n",
              "      <td>9121</td>\n",
              "    </tr>\n",
              "    <tr>\n",
              "      <th>...</th>\n",
              "      <td>...</td>\n",
              "      <td>...</td>\n",
              "      <td>...</td>\n",
              "      <td>...</td>\n",
              "      <td>...</td>\n",
              "      <td>...</td>\n",
              "      <td>...</td>\n",
              "      <td>...</td>\n",
              "      <td>...</td>\n",
              "    </tr>\n",
              "    <tr>\n",
              "      <th>78610</th>\n",
              "      <td>399680</td>\n",
              "      <td>Aplicativo</td>\n",
              "      <td>A</td>\n",
              "      <td>2023-04-19</td>\n",
              "      <td>NaN</td>\n",
              "      <td>339.912</td>\n",
              "      <td>Eletroportateis</td>\n",
              "      <td>NaN</td>\n",
              "      <td>20873</td>\n",
              "    </tr>\n",
              "    <tr>\n",
              "      <th>78718</th>\n",
              "      <td>320895</td>\n",
              "      <td>Mobile</td>\n",
              "      <td>B</td>\n",
              "      <td>2023-01-20</td>\n",
              "      <td>NaN</td>\n",
              "      <td>1000.800</td>\n",
              "      <td>Telefones e Celulares</td>\n",
              "      <td>NaN</td>\n",
              "      <td>17772</td>\n",
              "    </tr>\n",
              "    <tr>\n",
              "      <th>79465</th>\n",
              "      <td>389240</td>\n",
              "      <td>Aplicativo</td>\n",
              "      <td>A</td>\n",
              "      <td>2023-01-14</td>\n",
              "      <td>NaN</td>\n",
              "      <td>279.200</td>\n",
              "      <td>Eletrodomesticos</td>\n",
              "      <td>NaN</td>\n",
              "      <td>20399</td>\n",
              "    </tr>\n",
              "    <tr>\n",
              "      <th>79548</th>\n",
              "      <td>124585</td>\n",
              "      <td>Mobile</td>\n",
              "      <td>A</td>\n",
              "      <td>2023-04-21</td>\n",
              "      <td>NaN</td>\n",
              "      <td>2051.240</td>\n",
              "      <td>TVs e Acessorios</td>\n",
              "      <td>NaN</td>\n",
              "      <td>17784</td>\n",
              "    </tr>\n",
              "    <tr>\n",
              "      <th>80016</th>\n",
              "      <td>104235</td>\n",
              "      <td>Aplicativo</td>\n",
              "      <td>A</td>\n",
              "      <td>2023-04-17</td>\n",
              "      <td>NaN</td>\n",
              "      <td>1199.200</td>\n",
              "      <td>Telefones e Celulares</td>\n",
              "      <td>NaN</td>\n",
              "      <td>21315</td>\n",
              "    </tr>\n",
              "  </tbody>\n",
              "</table>\n",
              "<p>302 rows × 9 columns</p>\n",
              "</div>"
            ],
            "text/plain": [
              "       idcompra idcanalvenda bandeira       Data  Preço  Preço_com_frete  \\\n",
              "96       382380     Internet        A 2023-04-26    NaN          879.200   \n",
              "284      346055     Internet        A 2023-03-23    NaN           87.648   \n",
              "402      172555       Mobile        A 2023-03-19    NaN          135.840   \n",
              "411      446380       Mobile        A 2023-03-09    NaN         1703.120   \n",
              "770       40425       Mobile        B 2023-04-21    NaN         1759.200   \n",
              "...         ...          ...      ...        ...    ...              ...   \n",
              "78610    399680   Aplicativo        A 2023-04-19    NaN          339.912   \n",
              "78718    320895       Mobile        B 2023-01-20    NaN         1000.800   \n",
              "79465    389240   Aplicativo        A 2023-01-14    NaN          279.200   \n",
              "79548    124585       Mobile        A 2023-04-21    NaN         2051.240   \n",
              "80016    104235   Aplicativo        A 2023-04-17    NaN         1199.200   \n",
              "\n",
              "           Nome_Departamento estado  cliente_Log  \n",
              "96     Telefones e Celulares    NaN         5804  \n",
              "284          Ar e Ventilacao    NaN        16359  \n",
              "402          Ar e Ventilacao    NaN        13691  \n",
              "411         Eletrodomesticos    NaN        13024  \n",
              "770    Telefones e Celulares    NaN         9121  \n",
              "...                      ...    ...          ...  \n",
              "78610        Eletroportateis    NaN        20873  \n",
              "78718  Telefones e Celulares    NaN        17772  \n",
              "79465       Eletrodomesticos    NaN        20399  \n",
              "79548       TVs e Acessorios    NaN        17784  \n",
              "80016  Telefones e Celulares    NaN        21315  \n",
              "\n",
              "[302 rows x 9 columns]"
            ]
          },
          "execution_count": 4,
          "metadata": {},
          "output_type": "execute_result"
        }
      ],
      "source": [
        "vendas.loc[vendas['Preço'].isna()]\n"
      ]
    },
    {
      "cell_type": "code",
      "execution_count": null,
      "metadata": {
        "id": "jPDL-vO3grtL",
        "outputId": "184bef2d-7405-4f18-d543-41bbd60b958f"
      },
      "outputs": [
        {
          "data": {
            "text/plain": [
              "idcanalvenda\n",
              "APP             139\n",
              "Aplicativo    21425\n",
              "Internet      24515\n",
              "Mobile        24732\n",
              "Name: idcompra, dtype: int64"
            ]
          },
          "execution_count": 5,
          "metadata": {},
          "output_type": "execute_result"
        }
      ],
      "source": [
        "vendas.groupby('idcanalvenda').idcompra.nunique()"
      ]
    },
    {
      "cell_type": "markdown",
      "metadata": {
        "id": "CP6bD3hmgrtM"
      },
      "source": [
        "## Usando o Replace"
      ]
    },
    {
      "cell_type": "code",
      "execution_count": null,
      "metadata": {
        "id": "KnKK8rWBgrtM",
        "outputId": "0e9e61bc-8135-4c73-cdc8-96f4694fde84"
      },
      "outputs": [
        {
          "data": {
            "text/plain": [
              "idcanalvenda\n",
              "Aplicativo    21539\n",
              "Internet      24515\n",
              "Mobile        24732\n",
              "Name: idcompra, dtype: int64"
            ]
          },
          "execution_count": 6,
          "metadata": {},
          "output_type": "execute_result"
        }
      ],
      "source": [
        "vendas[\"idcanalvenda\"] = vendas[\"idcanalvenda\"].str.replace('APP', 'Aplicativo')\n",
        "vendas.groupby('idcanalvenda').idcompra.nunique()"
      ]
    },
    {
      "cell_type": "code",
      "execution_count": null,
      "metadata": {
        "id": "LHNzjRw5grtM",
        "outputId": "ce895eda-66a1-416f-e139-c87cf3646a4e"
      },
      "outputs": [
        {
          "data": {
            "text/plain": [
              "estado\n",
              "AC       10\n",
              "AL      461\n",
              "AM       15\n",
              "AP        3\n",
              "BA     2028\n",
              "CE     1007\n",
              "DF     1902\n",
              "ES     1254\n",
              "GO     1603\n",
              "MA      129\n",
              "MG    10538\n",
              "MT      510\n",
              "PA      108\n",
              "PB      536\n",
              "PE     1632\n",
              "PI      247\n",
              "PR     2754\n",
              "RJ    16213\n",
              "RN      463\n",
              "RO       15\n",
              "RR        7\n",
              "RS     4099\n",
              "SC     1932\n",
              "SE      340\n",
              "SP    25962\n",
              "TO      101\n",
              "Name: idcompra, dtype: int64"
            ]
          },
          "execution_count": 7,
          "metadata": {},
          "output_type": "execute_result"
        }
      ],
      "source": [
        "vendas.groupby('estado').idcompra.nunique()"
      ]
    },
    {
      "cell_type": "markdown",
      "metadata": {
        "id": "Fn1PUG-ZgrtM"
      },
      "source": [
        "## Substituindo os espaços em branco dos itens das linhas das colunas"
      ]
    },
    {
      "cell_type": "code",
      "execution_count": null,
      "metadata": {
        "id": "DNYBRkLigrtM",
        "outputId": "e3c4a905-53cd-4a02-ec60-ecd07daa37fc"
      },
      "outputs": [
        {
          "data": {
            "text/plain": [
              "Nome_Departamento\n",
              "Acessorios_e_Inovacoes     3548\n",
              "Alimentos                     2\n",
              "Ar_e_Ventilacao             951\n",
              "Audio                      1794\n",
              "Automotivo                  895\n",
              "Bebes                      4531\n",
              "Beleza_e_Saude             4626\n",
              "Brinquedos                 1320\n",
              "Cama,_Mesa_e_Banho          153\n",
              "Casa_e_Construcao           263\n",
              "Cine_e_Foto                  11\n",
              "Decoracao                   134\n",
              "Eletrodomesticos          10501\n",
              "Eletroportateis            9593\n",
              "Esporte_e_Lazer             531\n",
              "Ferramentas                1111\n",
              "Games                       764\n",
              "Informatica                5290\n",
              "Instrumentos_Musicais         1\n",
              "Linha_Industrial             86\n",
              "Malas_e_Mochilas            114\n",
              "Moda                          3\n",
              "Moveis                     4175\n",
              "Perfumaria                  624\n",
              "Pet_Shop                     43\n",
              "Produtos_de_Limpeza         713\n",
              "Relogios                    134\n",
              "TV_e_Video                    5\n",
              "TVs_e_Acessorios           5326\n",
              "Tablets                    1770\n",
              "Telefones_e_Celulares     14495\n",
              "Utilidades_Domesticas      3728\n",
              "Name: idcompra, dtype: int64"
            ]
          },
          "execution_count": 8,
          "metadata": {},
          "output_type": "execute_result"
        }
      ],
      "source": [
        "vendas['Nome_Departamento'] =  vendas['Nome_Departamento'].str.replace(' ', '_')\n",
        "vendas.groupby(['Nome_Departamento']).idcompra.nunique()"
      ]
    },
    {
      "cell_type": "markdown",
      "metadata": {
        "id": "z0ImZe0kgrtN"
      },
      "source": [
        "## Tratamento de nulos"
      ]
    },
    {
      "cell_type": "code",
      "execution_count": null,
      "metadata": {
        "id": "7kubjTHagrtN",
        "outputId": "c7d604e3-9735-49ba-b55b-60988dc6274f"
      },
      "outputs": [
        {
          "data": {
            "text/plain": [
              "idcompra               0\n",
              "idcanalvenda           0\n",
              "bandeira               0\n",
              "Data                   0\n",
              "Preço                302\n",
              "Preço_com_frete        0\n",
              "Nome_Departamento      0\n",
              "estado               302\n",
              "cliente_Log            0\n",
              "dtype: int64"
            ]
          },
          "execution_count": 9,
          "metadata": {},
          "output_type": "execute_result"
        }
      ],
      "source": [
        "vendas.isna().sum()"
      ]
    },
    {
      "cell_type": "code",
      "execution_count": null,
      "metadata": {
        "id": "L82n7u_cgrtN",
        "outputId": "d745de13-b315-47e0-e8fa-620bba684d44"
      },
      "outputs": [
        {
          "name": "stdout",
          "output_type": "stream",
          "text": [
            "<class 'pandas.core.frame.DataFrame'>\n",
            "Int64Index: 79926 entries, 0 to 80227\n",
            "Data columns (total 9 columns):\n",
            " #   Column             Non-Null Count  Dtype         \n",
            "---  ------             --------------  -----         \n",
            " 0   idcompra           79926 non-null  int64         \n",
            " 1   idcanalvenda       79926 non-null  object        \n",
            " 2   bandeira           79926 non-null  object        \n",
            " 3   Data               79926 non-null  datetime64[ns]\n",
            " 4   Preço              79926 non-null  float64       \n",
            " 5   Preço_com_frete    79926 non-null  float64       \n",
            " 6   Nome_Departamento  79926 non-null  object        \n",
            " 7   estado             79926 non-null  object        \n",
            " 8   cliente_Log        79926 non-null  int64         \n",
            "dtypes: datetime64[ns](1), float64(2), int64(2), object(4)\n",
            "memory usage: 6.1+ MB\n"
          ]
        }
      ],
      "source": [
        "vendas_sem_nulos = vendas.dropna()\n",
        "vendas_sem_nulos.info()"
      ]
    },
    {
      "cell_type": "code",
      "execution_count": null,
      "metadata": {
        "id": "p5mkl6fwgrtN",
        "outputId": "2328dd82-2666-4f31-bb50-46f390b44ec2"
      },
      "outputs": [
        {
          "name": "stdout",
          "output_type": "stream",
          "text": [
            "<class 'pandas.core.frame.DataFrame'>\n",
            "RangeIndex: 80228 entries, 0 to 80227\n",
            "Data columns (total 9 columns):\n",
            " #   Column             Non-Null Count  Dtype         \n",
            "---  ------             --------------  -----         \n",
            " 0   idcompra           80228 non-null  int64         \n",
            " 1   idcanalvenda       80228 non-null  object        \n",
            " 2   bandeira           80228 non-null  object        \n",
            " 3   Data               80228 non-null  datetime64[ns]\n",
            " 4   Preço              79926 non-null  float64       \n",
            " 5   Preço_com_frete    80228 non-null  float64       \n",
            " 6   Nome_Departamento  80228 non-null  object        \n",
            " 7   estado             80228 non-null  object        \n",
            " 8   cliente_Log        80228 non-null  int64         \n",
            "dtypes: datetime64[ns](1), float64(2), int64(2), object(4)\n",
            "memory usage: 5.5+ MB\n"
          ]
        }
      ],
      "source": [
        "vendas['estado'].fillna('MS', inplace=True)\n",
        "vendas.info()"
      ]
    },
    {
      "cell_type": "code",
      "execution_count": null,
      "metadata": {
        "id": "Or6WCz8wgrtN"
      },
      "outputs": [],
      "source": [
        "media_preco = vendas['Preço'].mean()\n",
        "\n",
        "vendas['Preço'].fillna(media_preco, inplace=True)"
      ]
    },
    {
      "cell_type": "code",
      "execution_count": null,
      "metadata": {
        "id": "yCUmzJ5igrtN",
        "outputId": "e4db637d-6f72-460e-8a0f-1cde82bac44e"
      },
      "outputs": [
        {
          "name": "stdout",
          "output_type": "stream",
          "text": [
            "<class 'pandas.core.frame.DataFrame'>\n",
            "RangeIndex: 80228 entries, 0 to 80227\n",
            "Data columns (total 9 columns):\n",
            " #   Column             Non-Null Count  Dtype         \n",
            "---  ------             --------------  -----         \n",
            " 0   idcompra           80228 non-null  int64         \n",
            " 1   idcanalvenda       80228 non-null  object        \n",
            " 2   bandeira           80228 non-null  object        \n",
            " 3   Data               80228 non-null  datetime64[ns]\n",
            " 4   Preço              80228 non-null  float64       \n",
            " 5   Preço_com_frete    80228 non-null  float64       \n",
            " 6   Nome_Departamento  80228 non-null  object        \n",
            " 7   estado             80228 non-null  object        \n",
            " 8   cliente_Log        80228 non-null  int64         \n",
            "dtypes: datetime64[ns](1), float64(2), int64(2), object(4)\n",
            "memory usage: 5.5+ MB\n"
          ]
        }
      ],
      "source": [
        "vendas.info()"
      ]
    },
    {
      "cell_type": "markdown",
      "metadata": {
        "id": "Eh_a_09-grtO"
      },
      "source": [
        "## Filtrando os Dados"
      ]
    },
    {
      "cell_type": "code",
      "execution_count": null,
      "metadata": {
        "id": "lfLDAajggrtO",
        "outputId": "29ed53e3-3151-4513-c014-755c47fcad3f"
      },
      "outputs": [
        {
          "data": {
            "text/html": [
              "<div>\n",
              "<style scoped>\n",
              "    .dataframe tbody tr th:only-of-type {\n",
              "        vertical-align: middle;\n",
              "    }\n",
              "\n",
              "    .dataframe tbody tr th {\n",
              "        vertical-align: top;\n",
              "    }\n",
              "\n",
              "    .dataframe thead th {\n",
              "        text-align: right;\n",
              "    }\n",
              "</style>\n",
              "<table border=\"1\" class=\"dataframe\">\n",
              "  <thead>\n",
              "    <tr style=\"text-align: right;\">\n",
              "      <th></th>\n",
              "      <th>Preço</th>\n",
              "      <th>Preço_com_frete</th>\n",
              "    </tr>\n",
              "  </thead>\n",
              "  <tbody>\n",
              "    <tr>\n",
              "      <th>count</th>\n",
              "      <td>80228.000000</td>\n",
              "      <td>80228.000000</td>\n",
              "    </tr>\n",
              "    <tr>\n",
              "      <th>mean</th>\n",
              "      <td>906.589129</td>\n",
              "      <td>908.619823</td>\n",
              "    </tr>\n",
              "    <tr>\n",
              "      <th>std</th>\n",
              "      <td>1057.611490</td>\n",
              "      <td>1057.583101</td>\n",
              "    </tr>\n",
              "    <tr>\n",
              "      <th>min</th>\n",
              "      <td>6.320000</td>\n",
              "      <td>6.320000</td>\n",
              "    </tr>\n",
              "    <tr>\n",
              "      <th>25%</th>\n",
              "      <td>147.920000</td>\n",
              "      <td>150.706000</td>\n",
              "    </tr>\n",
              "    <tr>\n",
              "      <th>50%</th>\n",
              "      <td>532.448000</td>\n",
              "      <td>535.120000</td>\n",
              "    </tr>\n",
              "    <tr>\n",
              "      <th>75%</th>\n",
              "      <td>1199.200000</td>\n",
              "      <td>1215.240000</td>\n",
              "    </tr>\n",
              "    <tr>\n",
              "      <th>max</th>\n",
              "      <td>14439.240000</td>\n",
              "      <td>14439.240000</td>\n",
              "    </tr>\n",
              "  </tbody>\n",
              "</table>\n",
              "</div>"
            ],
            "text/plain": [
              "              Preço  Preço_com_frete\n",
              "count  80228.000000     80228.000000\n",
              "mean     906.589129       908.619823\n",
              "std     1057.611490      1057.583101\n",
              "min        6.320000         6.320000\n",
              "25%      147.920000       150.706000\n",
              "50%      532.448000       535.120000\n",
              "75%     1199.200000      1215.240000\n",
              "max    14439.240000     14439.240000"
            ]
          },
          "execution_count": 14,
          "metadata": {},
          "output_type": "execute_result"
        }
      ],
      "source": [
        "vendas[['Preço', 'Preço_com_frete']].describe()"
      ]
    },
    {
      "cell_type": "markdown",
      "metadata": {
        "id": "SaRWU6icgrtO"
      },
      "source": [
        "### Eliminando os preços maiores que os preços com frete"
      ]
    },
    {
      "cell_type": "code",
      "execution_count": null,
      "metadata": {
        "id": "S_tDTOu9grtO"
      },
      "outputs": [],
      "source": [
        "# vendas.loc[(vendas['Preço'] < vendas['Preço_com_frete'])].sort_values(by='Preço', ascending=False)\n",
        "preco_errado = vendas.query(\"Preço > Preço_com_frete\")"
      ]
    },
    {
      "cell_type": "code",
      "execution_count": null,
      "metadata": {
        "id": "tvKPsj4FgrtO"
      },
      "outputs": [],
      "source": [
        "vendas_correto = vendas.query(\"Preço < Preço_com_frete\")"
      ]
    },
    {
      "cell_type": "code",
      "execution_count": null,
      "metadata": {
        "id": "wz29KTrzgrtO",
        "outputId": "1f2be58c-e2c1-4cdd-c013-083c87ff4532"
      },
      "outputs": [
        {
          "data": {
            "text/html": [
              "<div>\n",
              "<style scoped>\n",
              "    .dataframe tbody tr th:only-of-type {\n",
              "        vertical-align: middle;\n",
              "    }\n",
              "\n",
              "    .dataframe tbody tr th {\n",
              "        vertical-align: top;\n",
              "    }\n",
              "\n",
              "    .dataframe thead th {\n",
              "        text-align: right;\n",
              "    }\n",
              "</style>\n",
              "<table border=\"1\" class=\"dataframe\">\n",
              "  <thead>\n",
              "    <tr style=\"text-align: right;\">\n",
              "      <th></th>\n",
              "      <th>idcompra</th>\n",
              "      <th>Preço</th>\n",
              "      <th>Preço_com_frete</th>\n",
              "      <th>cliente_Log</th>\n",
              "    </tr>\n",
              "  </thead>\n",
              "  <tbody>\n",
              "    <tr>\n",
              "      <th>count</th>\n",
              "      <td>168.000000</td>\n",
              "      <td>168.000000</td>\n",
              "      <td>168.00000</td>\n",
              "      <td>168.000000</td>\n",
              "    </tr>\n",
              "    <tr>\n",
              "      <th>mean</th>\n",
              "      <td>265130.744048</td>\n",
              "      <td>1070.083095</td>\n",
              "      <td>1098.71319</td>\n",
              "      <td>14368.571429</td>\n",
              "    </tr>\n",
              "    <tr>\n",
              "      <th>std</th>\n",
              "      <td>140435.252208</td>\n",
              "      <td>617.138494</td>\n",
              "      <td>620.66244</td>\n",
              "      <td>7890.233136</td>\n",
              "    </tr>\n",
              "    <tr>\n",
              "      <th>min</th>\n",
              "      <td>2145.000000</td>\n",
              "      <td>10.896000</td>\n",
              "      <td>16.11200</td>\n",
              "      <td>210.000000</td>\n",
              "    </tr>\n",
              "    <tr>\n",
              "      <th>25%</th>\n",
              "      <td>157955.000000</td>\n",
              "      <td>527.200000</td>\n",
              "      <td>545.32000</td>\n",
              "      <td>7717.500000</td>\n",
              "    </tr>\n",
              "    <tr>\n",
              "      <th>50%</th>\n",
              "      <td>253702.500000</td>\n",
              "      <td>1108.008000</td>\n",
              "      <td>1136.24800</td>\n",
              "      <td>15281.000000</td>\n",
              "    </tr>\n",
              "    <tr>\n",
              "      <th>75%</th>\n",
              "      <td>380616.250000</td>\n",
              "      <td>1599.200000</td>\n",
              "      <td>1618.88400</td>\n",
              "      <td>20538.000000</td>\n",
              "    </tr>\n",
              "    <tr>\n",
              "      <th>max</th>\n",
              "      <td>496910.000000</td>\n",
              "      <td>2399.200000</td>\n",
              "      <td>2432.74400</td>\n",
              "      <td>27837.000000</td>\n",
              "    </tr>\n",
              "  </tbody>\n",
              "</table>\n",
              "</div>"
            ],
            "text/plain": [
              "            idcompra        Preço  Preço_com_frete   cliente_Log\n",
              "count     168.000000   168.000000        168.00000    168.000000\n",
              "mean   265130.744048  1070.083095       1098.71319  14368.571429\n",
              "std    140435.252208   617.138494        620.66244   7890.233136\n",
              "min      2145.000000    10.896000         16.11200    210.000000\n",
              "25%    157955.000000   527.200000        545.32000   7717.500000\n",
              "50%    253702.500000  1108.008000       1136.24800  15281.000000\n",
              "75%    380616.250000  1599.200000       1618.88400  20538.000000\n",
              "max    496910.000000  2399.200000       2432.74400  27837.000000"
            ]
          },
          "execution_count": 17,
          "metadata": {},
          "output_type": "execute_result"
        }
      ],
      "source": [
        "vendas_correto.query(\"Nome_Departamento == 'Esporte_e_Lazer' and estado == 'SP'\").describe()"
      ]
    },
    {
      "cell_type": "markdown",
      "metadata": {
        "id": "Pv1mF1yHgrtO"
      },
      "source": [
        "## Departamentos mais vendidos"
      ]
    },
    {
      "cell_type": "code",
      "execution_count": null,
      "metadata": {
        "id": "KHkzhbcQgrtO",
        "outputId": "df7dd788-4ae9-49f9-f053-e07412e987c1"
      },
      "outputs": [
        {
          "data": {
            "text/html": [
              "<div>\n",
              "<style scoped>\n",
              "    .dataframe tbody tr th:only-of-type {\n",
              "        vertical-align: middle;\n",
              "    }\n",
              "\n",
              "    .dataframe tbody tr th {\n",
              "        vertical-align: top;\n",
              "    }\n",
              "\n",
              "    .dataframe thead th {\n",
              "        text-align: right;\n",
              "    }\n",
              "</style>\n",
              "<table border=\"1\" class=\"dataframe\">\n",
              "  <thead>\n",
              "    <tr style=\"text-align: right;\">\n",
              "      <th></th>\n",
              "      <th>Nome_Departamento</th>\n",
              "      <th>idcompra</th>\n",
              "    </tr>\n",
              "  </thead>\n",
              "  <tbody>\n",
              "    <tr>\n",
              "      <th>0</th>\n",
              "      <td>Bebes</td>\n",
              "      <td>4353</td>\n",
              "    </tr>\n",
              "    <tr>\n",
              "      <th>1</th>\n",
              "      <td>Eletrodomesticos</td>\n",
              "      <td>4201</td>\n",
              "    </tr>\n",
              "    <tr>\n",
              "      <th>2</th>\n",
              "      <td>Eletroportateis</td>\n",
              "      <td>2223</td>\n",
              "    </tr>\n",
              "    <tr>\n",
              "      <th>3</th>\n",
              "      <td>Moveis</td>\n",
              "      <td>2036</td>\n",
              "    </tr>\n",
              "    <tr>\n",
              "      <th>4</th>\n",
              "      <td>Utilidades_Domesticas</td>\n",
              "      <td>1366</td>\n",
              "    </tr>\n",
              "    <tr>\n",
              "      <th>5</th>\n",
              "      <td>Acessorios_e_Inovacoes</td>\n",
              "      <td>1243</td>\n",
              "    </tr>\n",
              "    <tr>\n",
              "      <th>6</th>\n",
              "      <td>Beleza_e_Saude</td>\n",
              "      <td>1054</td>\n",
              "    </tr>\n",
              "    <tr>\n",
              "      <th>7</th>\n",
              "      <td>Brinquedos</td>\n",
              "      <td>686</td>\n",
              "    </tr>\n",
              "    <tr>\n",
              "      <th>8</th>\n",
              "      <td>Perfumaria</td>\n",
              "      <td>563</td>\n",
              "    </tr>\n",
              "    <tr>\n",
              "      <th>9</th>\n",
              "      <td>Produtos_de_Limpeza</td>\n",
              "      <td>522</td>\n",
              "    </tr>\n",
              "    <tr>\n",
              "      <th>10</th>\n",
              "      <td>Telefones_e_Celulares</td>\n",
              "      <td>493</td>\n",
              "    </tr>\n",
              "    <tr>\n",
              "      <th>11</th>\n",
              "      <td>Automotivo</td>\n",
              "      <td>457</td>\n",
              "    </tr>\n",
              "    <tr>\n",
              "      <th>12</th>\n",
              "      <td>Esporte_e_Lazer</td>\n",
              "      <td>446</td>\n",
              "    </tr>\n",
              "    <tr>\n",
              "      <th>13</th>\n",
              "      <td>Audio</td>\n",
              "      <td>374</td>\n",
              "    </tr>\n",
              "    <tr>\n",
              "      <th>14</th>\n",
              "      <td>Ar_e_Ventilacao</td>\n",
              "      <td>337</td>\n",
              "    </tr>\n",
              "    <tr>\n",
              "      <th>15</th>\n",
              "      <td>Ferramentas</td>\n",
              "      <td>287</td>\n",
              "    </tr>\n",
              "    <tr>\n",
              "      <th>16</th>\n",
              "      <td>Informatica</td>\n",
              "      <td>284</td>\n",
              "    </tr>\n",
              "    <tr>\n",
              "      <th>17</th>\n",
              "      <td>Games</td>\n",
              "      <td>200</td>\n",
              "    </tr>\n",
              "    <tr>\n",
              "      <th>18</th>\n",
              "      <td>TVs_e_Acessorios</td>\n",
              "      <td>158</td>\n",
              "    </tr>\n",
              "    <tr>\n",
              "      <th>19</th>\n",
              "      <td>Decoracao</td>\n",
              "      <td>127</td>\n",
              "    </tr>\n",
              "    <tr>\n",
              "      <th>20</th>\n",
              "      <td>Malas_e_Mochilas</td>\n",
              "      <td>91</td>\n",
              "    </tr>\n",
              "    <tr>\n",
              "      <th>21</th>\n",
              "      <td>Cama,_Mesa_e_Banho</td>\n",
              "      <td>71</td>\n",
              "    </tr>\n",
              "    <tr>\n",
              "      <th>22</th>\n",
              "      <td>Tablets</td>\n",
              "      <td>64</td>\n",
              "    </tr>\n",
              "    <tr>\n",
              "      <th>23</th>\n",
              "      <td>Casa_e_Construcao</td>\n",
              "      <td>58</td>\n",
              "    </tr>\n",
              "    <tr>\n",
              "      <th>24</th>\n",
              "      <td>Relogios</td>\n",
              "      <td>45</td>\n",
              "    </tr>\n",
              "    <tr>\n",
              "      <th>25</th>\n",
              "      <td>Pet_Shop</td>\n",
              "      <td>40</td>\n",
              "    </tr>\n",
              "    <tr>\n",
              "      <th>26</th>\n",
              "      <td>Linha_Industrial</td>\n",
              "      <td>9</td>\n",
              "    </tr>\n",
              "    <tr>\n",
              "      <th>27</th>\n",
              "      <td>Cine_e_Foto</td>\n",
              "      <td>8</td>\n",
              "    </tr>\n",
              "    <tr>\n",
              "      <th>28</th>\n",
              "      <td>Moda</td>\n",
              "      <td>3</td>\n",
              "    </tr>\n",
              "    <tr>\n",
              "      <th>29</th>\n",
              "      <td>Alimentos</td>\n",
              "      <td>2</td>\n",
              "    </tr>\n",
              "    <tr>\n",
              "      <th>30</th>\n",
              "      <td>Instrumentos_Musicais</td>\n",
              "      <td>1</td>\n",
              "    </tr>\n",
              "  </tbody>\n",
              "</table>\n",
              "</div>"
            ],
            "text/plain": [
              "         Nome_Departamento  idcompra\n",
              "0                    Bebes      4353\n",
              "1         Eletrodomesticos      4201\n",
              "2          Eletroportateis      2223\n",
              "3                   Moveis      2036\n",
              "4    Utilidades_Domesticas      1366\n",
              "5   Acessorios_e_Inovacoes      1243\n",
              "6           Beleza_e_Saude      1054\n",
              "7               Brinquedos       686\n",
              "8               Perfumaria       563\n",
              "9      Produtos_de_Limpeza       522\n",
              "10   Telefones_e_Celulares       493\n",
              "11              Automotivo       457\n",
              "12         Esporte_e_Lazer       446\n",
              "13                   Audio       374\n",
              "14         Ar_e_Ventilacao       337\n",
              "15             Ferramentas       287\n",
              "16             Informatica       284\n",
              "17                   Games       200\n",
              "18        TVs_e_Acessorios       158\n",
              "19               Decoracao       127\n",
              "20        Malas_e_Mochilas        91\n",
              "21      Cama,_Mesa_e_Banho        71\n",
              "22                 Tablets        64\n",
              "23       Casa_e_Construcao        58\n",
              "24                Relogios        45\n",
              "25                Pet_Shop        40\n",
              "26        Linha_Industrial         9\n",
              "27             Cine_e_Foto         8\n",
              "28                    Moda         3\n",
              "29               Alimentos         2\n",
              "30   Instrumentos_Musicais         1"
            ]
          },
          "execution_count": 18,
          "metadata": {},
          "output_type": "execute_result"
        }
      ],
      "source": [
        "vendas_correto.groupby('Nome_Departamento').idcompra.nunique().sort_values(ascending=False).reset_index()"
      ]
    },
    {
      "cell_type": "markdown",
      "metadata": {
        "id": "ITVY9X6fgrtP"
      },
      "source": [
        "### Média de preço com frete por Nome de Departamento"
      ]
    },
    {
      "cell_type": "code",
      "execution_count": null,
      "metadata": {
        "id": "mF8cb-g9grtP",
        "outputId": "a6c97b91-bb08-48a8-f62d-27cb87300200"
      },
      "outputs": [
        {
          "data": {
            "text/html": [
              "<div>\n",
              "<style scoped>\n",
              "    .dataframe tbody tr th:only-of-type {\n",
              "        vertical-align: middle;\n",
              "    }\n",
              "\n",
              "    .dataframe tbody tr th {\n",
              "        vertical-align: top;\n",
              "    }\n",
              "\n",
              "    .dataframe thead th {\n",
              "        text-align: right;\n",
              "    }\n",
              "</style>\n",
              "<table border=\"1\" class=\"dataframe\">\n",
              "  <thead>\n",
              "    <tr style=\"text-align: right;\">\n",
              "      <th></th>\n",
              "      <th>Nome_Departamento</th>\n",
              "      <th>Preço_com_frete</th>\n",
              "    </tr>\n",
              "  </thead>\n",
              "  <tbody>\n",
              "    <tr>\n",
              "      <th>0</th>\n",
              "      <td>TVs_e_Acessorios</td>\n",
              "      <td>3469.38</td>\n",
              "    </tr>\n",
              "    <tr>\n",
              "      <th>1</th>\n",
              "      <td>Informatica</td>\n",
              "      <td>2159.78</td>\n",
              "    </tr>\n",
              "    <tr>\n",
              "      <th>2</th>\n",
              "      <td>Linha_Industrial</td>\n",
              "      <td>2027.11</td>\n",
              "    </tr>\n",
              "    <tr>\n",
              "      <th>3</th>\n",
              "      <td>Cine_e_Foto</td>\n",
              "      <td>1851.20</td>\n",
              "    </tr>\n",
              "    <tr>\n",
              "      <th>4</th>\n",
              "      <td>Telefones_e_Celulares</td>\n",
              "      <td>1442.19</td>\n",
              "    </tr>\n",
              "    <tr>\n",
              "      <th>5</th>\n",
              "      <td>Eletrodomesticos</td>\n",
              "      <td>1400.66</td>\n",
              "    </tr>\n",
              "    <tr>\n",
              "      <th>6</th>\n",
              "      <td>Esporte_e_Lazer</td>\n",
              "      <td>1123.14</td>\n",
              "    </tr>\n",
              "    <tr>\n",
              "      <th>7</th>\n",
              "      <td>Tablets</td>\n",
              "      <td>1100.23</td>\n",
              "    </tr>\n",
              "    <tr>\n",
              "      <th>8</th>\n",
              "      <td>Games</td>\n",
              "      <td>942.90</td>\n",
              "    </tr>\n",
              "    <tr>\n",
              "      <th>9</th>\n",
              "      <td>Instrumentos_Musicais</td>\n",
              "      <td>834.61</td>\n",
              "    </tr>\n",
              "    <tr>\n",
              "      <th>10</th>\n",
              "      <td>Automotivo</td>\n",
              "      <td>681.57</td>\n",
              "    </tr>\n",
              "    <tr>\n",
              "      <th>11</th>\n",
              "      <td>Moveis</td>\n",
              "      <td>541.03</td>\n",
              "    </tr>\n",
              "    <tr>\n",
              "      <th>12</th>\n",
              "      <td>Ar_e_Ventilacao</td>\n",
              "      <td>518.79</td>\n",
              "    </tr>\n",
              "    <tr>\n",
              "      <th>13</th>\n",
              "      <td>Audio</td>\n",
              "      <td>480.35</td>\n",
              "    </tr>\n",
              "    <tr>\n",
              "      <th>14</th>\n",
              "      <td>Casa_e_Construcao</td>\n",
              "      <td>433.53</td>\n",
              "    </tr>\n",
              "    <tr>\n",
              "      <th>15</th>\n",
              "      <td>Pet_Shop</td>\n",
              "      <td>237.26</td>\n",
              "    </tr>\n",
              "    <tr>\n",
              "      <th>16</th>\n",
              "      <td>Acessorios_e_Inovacoes</td>\n",
              "      <td>229.14</td>\n",
              "    </tr>\n",
              "    <tr>\n",
              "      <th>17</th>\n",
              "      <td>Eletroportateis</td>\n",
              "      <td>223.77</td>\n",
              "    </tr>\n",
              "    <tr>\n",
              "      <th>18</th>\n",
              "      <td>Ferramentas</td>\n",
              "      <td>217.59</td>\n",
              "    </tr>\n",
              "    <tr>\n",
              "      <th>19</th>\n",
              "      <td>Cama,_Mesa_e_Banho</td>\n",
              "      <td>210.70</td>\n",
              "    </tr>\n",
              "    <tr>\n",
              "      <th>20</th>\n",
              "      <td>Malas_e_Mochilas</td>\n",
              "      <td>194.26</td>\n",
              "    </tr>\n",
              "    <tr>\n",
              "      <th>21</th>\n",
              "      <td>Relogios</td>\n",
              "      <td>186.95</td>\n",
              "    </tr>\n",
              "    <tr>\n",
              "      <th>22</th>\n",
              "      <td>Brinquedos</td>\n",
              "      <td>176.45</td>\n",
              "    </tr>\n",
              "    <tr>\n",
              "      <th>23</th>\n",
              "      <td>Utilidades_Domesticas</td>\n",
              "      <td>155.02</td>\n",
              "    </tr>\n",
              "    <tr>\n",
              "      <th>24</th>\n",
              "      <td>Decoracao</td>\n",
              "      <td>144.50</td>\n",
              "    </tr>\n",
              "    <tr>\n",
              "      <th>25</th>\n",
              "      <td>Bebes</td>\n",
              "      <td>130.90</td>\n",
              "    </tr>\n",
              "    <tr>\n",
              "      <th>26</th>\n",
              "      <td>Beleza_e_Saude</td>\n",
              "      <td>119.59</td>\n",
              "    </tr>\n",
              "    <tr>\n",
              "      <th>27</th>\n",
              "      <td>Alimentos</td>\n",
              "      <td>104.24</td>\n",
              "    </tr>\n",
              "    <tr>\n",
              "      <th>28</th>\n",
              "      <td>Perfumaria</td>\n",
              "      <td>80.91</td>\n",
              "    </tr>\n",
              "    <tr>\n",
              "      <th>29</th>\n",
              "      <td>Produtos_de_Limpeza</td>\n",
              "      <td>68.79</td>\n",
              "    </tr>\n",
              "    <tr>\n",
              "      <th>30</th>\n",
              "      <td>Moda</td>\n",
              "      <td>47.01</td>\n",
              "    </tr>\n",
              "  </tbody>\n",
              "</table>\n",
              "</div>"
            ],
            "text/plain": [
              "         Nome_Departamento  Preço_com_frete\n",
              "0         TVs_e_Acessorios          3469.38\n",
              "1              Informatica          2159.78\n",
              "2         Linha_Industrial          2027.11\n",
              "3              Cine_e_Foto          1851.20\n",
              "4    Telefones_e_Celulares          1442.19\n",
              "5         Eletrodomesticos          1400.66\n",
              "6          Esporte_e_Lazer          1123.14\n",
              "7                  Tablets          1100.23\n",
              "8                    Games           942.90\n",
              "9    Instrumentos_Musicais           834.61\n",
              "10              Automotivo           681.57\n",
              "11                  Moveis           541.03\n",
              "12         Ar_e_Ventilacao           518.79\n",
              "13                   Audio           480.35\n",
              "14       Casa_e_Construcao           433.53\n",
              "15                Pet_Shop           237.26\n",
              "16  Acessorios_e_Inovacoes           229.14\n",
              "17         Eletroportateis           223.77\n",
              "18             Ferramentas           217.59\n",
              "19      Cama,_Mesa_e_Banho           210.70\n",
              "20        Malas_e_Mochilas           194.26\n",
              "21                Relogios           186.95\n",
              "22              Brinquedos           176.45\n",
              "23   Utilidades_Domesticas           155.02\n",
              "24               Decoracao           144.50\n",
              "25                   Bebes           130.90\n",
              "26          Beleza_e_Saude           119.59\n",
              "27               Alimentos           104.24\n",
              "28              Perfumaria            80.91\n",
              "29     Produtos_de_Limpeza            68.79\n",
              "30                    Moda            47.01"
            ]
          },
          "execution_count": 19,
          "metadata": {},
          "output_type": "execute_result"
        }
      ],
      "source": [
        "# O round(, 2) define quantas casas decimais\n",
        "\n",
        "round(vendas_correto.groupby('Nome_Departamento')['Preço_com_frete'].mean().sort_values(ascending=False).reset_index(),2)\n"
      ]
    },
    {
      "cell_type": "markdown",
      "metadata": {
        "id": "JI9w4TaOgrtP"
      },
      "source": [
        "### Quantidade de vendas por mês"
      ]
    },
    {
      "cell_type": "code",
      "execution_count": null,
      "metadata": {
        "id": "tvFqrm9rgrtP",
        "outputId": "5894d703-a4b9-420e-b7f9-f90cecc1a5e4"
      },
      "outputs": [
        {
          "data": {
            "text/plain": [
              "Data\n",
              "2023-02-13    226\n",
              "2023-01-20    218\n",
              "2023-03-07    215\n",
              "2023-03-30    214\n",
              "2023-02-20    214\n",
              "             ... \n",
              "2023-02-15    162\n",
              "2023-04-04    162\n",
              "2023-02-25    161\n",
              "2023-02-22    156\n",
              "2023-02-12    152\n",
              "Name: idcompra, Length: 119, dtype: int64"
            ]
          },
          "execution_count": 20,
          "metadata": {},
          "output_type": "execute_result"
        }
      ],
      "source": [
        "vendas_correto.groupby('Data').idcompra.nunique().sort_values(ascending=False)"
      ]
    },
    {
      "cell_type": "code",
      "execution_count": null,
      "metadata": {
        "id": "y9EE5ax4grtP",
        "outputId": "c32b3bb4-2dbd-4640-ac19-cc0a2f11a484"
      },
      "outputs": [
        {
          "name": "stderr",
          "output_type": "stream",
          "text": [
            "C:\\Users\\Alessandro\\AppData\\Local\\Temp\\ipykernel_20120\\3236723448.py:1: SettingWithCopyWarning: \n",
            "A value is trying to be set on a copy of a slice from a DataFrame.\n",
            "Try using .loc[row_indexer,col_indexer] = value instead\n",
            "\n",
            "See the caveats in the documentation: https://pandas.pydata.org/pandas-docs/stable/user_guide/indexing.html#returning-a-view-versus-a-copy\n",
            "  vendas_correto[\"mes\"] = vendas_correto['Data'].dt.month\n"
          ]
        },
        {
          "data": {
            "text/html": [
              "<div>\n",
              "<style scoped>\n",
              "    .dataframe tbody tr th:only-of-type {\n",
              "        vertical-align: middle;\n",
              "    }\n",
              "\n",
              "    .dataframe tbody tr th {\n",
              "        vertical-align: top;\n",
              "    }\n",
              "\n",
              "    .dataframe thead th {\n",
              "        text-align: right;\n",
              "    }\n",
              "</style>\n",
              "<table border=\"1\" class=\"dataframe\">\n",
              "  <thead>\n",
              "    <tr style=\"text-align: right;\">\n",
              "      <th></th>\n",
              "      <th>idcompra</th>\n",
              "      <th>idcanalvenda</th>\n",
              "      <th>bandeira</th>\n",
              "      <th>Data</th>\n",
              "      <th>Preço</th>\n",
              "      <th>Preço_com_frete</th>\n",
              "      <th>Nome_Departamento</th>\n",
              "      <th>estado</th>\n",
              "      <th>cliente_Log</th>\n",
              "      <th>mes</th>\n",
              "    </tr>\n",
              "  </thead>\n",
              "  <tbody>\n",
              "    <tr>\n",
              "      <th>2</th>\n",
              "      <td>437305</td>\n",
              "      <td>Mobile</td>\n",
              "      <td>A</td>\n",
              "      <td>2023-03-06</td>\n",
              "      <td>35.92</td>\n",
              "      <td>37.512</td>\n",
              "      <td>Bebes</td>\n",
              "      <td>SP</td>\n",
              "      <td>15478</td>\n",
              "      <td>3</td>\n",
              "    </tr>\n",
              "    <tr>\n",
              "      <th>4</th>\n",
              "      <td>455795</td>\n",
              "      <td>Mobile</td>\n",
              "      <td>B</td>\n",
              "      <td>2023-03-31</td>\n",
              "      <td>1743.20</td>\n",
              "      <td>1785.112</td>\n",
              "      <td>Esporte_e_Lazer</td>\n",
              "      <td>RS</td>\n",
              "      <td>19790</td>\n",
              "      <td>3</td>\n",
              "    </tr>\n",
              "    <tr>\n",
              "      <th>8</th>\n",
              "      <td>75525</td>\n",
              "      <td>Mobile</td>\n",
              "      <td>B</td>\n",
              "      <td>2023-02-19</td>\n",
              "      <td>679.20</td>\n",
              "      <td>695.120</td>\n",
              "      <td>Moveis</td>\n",
              "      <td>SP</td>\n",
              "      <td>3442</td>\n",
              "      <td>2</td>\n",
              "    </tr>\n",
              "    <tr>\n",
              "      <th>19</th>\n",
              "      <td>258580</td>\n",
              "      <td>Mobile</td>\n",
              "      <td>A</td>\n",
              "      <td>2023-03-27</td>\n",
              "      <td>107.76</td>\n",
              "      <td>109.344</td>\n",
              "      <td>Bebes</td>\n",
              "      <td>ES</td>\n",
              "      <td>7662</td>\n",
              "      <td>3</td>\n",
              "    </tr>\n",
              "    <tr>\n",
              "      <th>22</th>\n",
              "      <td>306675</td>\n",
              "      <td>Mobile</td>\n",
              "      <td>B</td>\n",
              "      <td>2023-02-17</td>\n",
              "      <td>471.20</td>\n",
              "      <td>511.120</td>\n",
              "      <td>Eletrodomesticos</td>\n",
              "      <td>RJ</td>\n",
              "      <td>15060</td>\n",
              "      <td>2</td>\n",
              "    </tr>\n",
              "    <tr>\n",
              "      <th>...</th>\n",
              "      <td>...</td>\n",
              "      <td>...</td>\n",
              "      <td>...</td>\n",
              "      <td>...</td>\n",
              "      <td>...</td>\n",
              "      <td>...</td>\n",
              "      <td>...</td>\n",
              "      <td>...</td>\n",
              "      <td>...</td>\n",
              "      <td>...</td>\n",
              "    </tr>\n",
              "    <tr>\n",
              "      <th>80023</th>\n",
              "      <td>351250</td>\n",
              "      <td>Internet</td>\n",
              "      <td>B</td>\n",
              "      <td>2023-01-29</td>\n",
              "      <td>661.68</td>\n",
              "      <td>676.736</td>\n",
              "      <td>Telefones_e_Celulares</td>\n",
              "      <td>SP</td>\n",
              "      <td>11429</td>\n",
              "      <td>1</td>\n",
              "    </tr>\n",
              "    <tr>\n",
              "      <th>80069</th>\n",
              "      <td>362035</td>\n",
              "      <td>Mobile</td>\n",
              "      <td>A</td>\n",
              "      <td>2023-04-25</td>\n",
              "      <td>95.92</td>\n",
              "      <td>101.600</td>\n",
              "      <td>Beleza_e_Saude</td>\n",
              "      <td>SP</td>\n",
              "      <td>26</td>\n",
              "      <td>4</td>\n",
              "    </tr>\n",
              "    <tr>\n",
              "      <th>80090</th>\n",
              "      <td>466615</td>\n",
              "      <td>Internet</td>\n",
              "      <td>B</td>\n",
              "      <td>2023-03-30</td>\n",
              "      <td>735.20</td>\n",
              "      <td>750.256</td>\n",
              "      <td>Telefones_e_Celulares</td>\n",
              "      <td>SP</td>\n",
              "      <td>3128</td>\n",
              "      <td>3</td>\n",
              "    </tr>\n",
              "    <tr>\n",
              "      <th>80104</th>\n",
              "      <td>335120</td>\n",
              "      <td>Aplicativo</td>\n",
              "      <td>B</td>\n",
              "      <td>2023-04-17</td>\n",
              "      <td>55.92</td>\n",
              "      <td>60.776</td>\n",
              "      <td>Beleza_e_Saude</td>\n",
              "      <td>RJ</td>\n",
              "      <td>13206</td>\n",
              "      <td>4</td>\n",
              "    </tr>\n",
              "    <tr>\n",
              "      <th>80194</th>\n",
              "      <td>376985</td>\n",
              "      <td>Internet</td>\n",
              "      <td>B</td>\n",
              "      <td>2023-02-10</td>\n",
              "      <td>661.68</td>\n",
              "      <td>676.736</td>\n",
              "      <td>Telefones_e_Celulares</td>\n",
              "      <td>RJ</td>\n",
              "      <td>5400</td>\n",
              "      <td>2</td>\n",
              "    </tr>\n",
              "  </tbody>\n",
              "</table>\n",
              "<p>22047 rows × 10 columns</p>\n",
              "</div>"
            ],
            "text/plain": [
              "       idcompra idcanalvenda bandeira       Data    Preço  Preço_com_frete  \\\n",
              "2        437305       Mobile        A 2023-03-06    35.92           37.512   \n",
              "4        455795       Mobile        B 2023-03-31  1743.20         1785.112   \n",
              "8         75525       Mobile        B 2023-02-19   679.20          695.120   \n",
              "19       258580       Mobile        A 2023-03-27   107.76          109.344   \n",
              "22       306675       Mobile        B 2023-02-17   471.20          511.120   \n",
              "...         ...          ...      ...        ...      ...              ...   \n",
              "80023    351250     Internet        B 2023-01-29   661.68          676.736   \n",
              "80069    362035       Mobile        A 2023-04-25    95.92          101.600   \n",
              "80090    466615     Internet        B 2023-03-30   735.20          750.256   \n",
              "80104    335120   Aplicativo        B 2023-04-17    55.92           60.776   \n",
              "80194    376985     Internet        B 2023-02-10   661.68          676.736   \n",
              "\n",
              "           Nome_Departamento estado  cliente_Log  mes  \n",
              "2                      Bebes     SP        15478    3  \n",
              "4            Esporte_e_Lazer     RS        19790    3  \n",
              "8                     Moveis     SP         3442    2  \n",
              "19                     Bebes     ES         7662    3  \n",
              "22          Eletrodomesticos     RJ        15060    2  \n",
              "...                      ...    ...          ...  ...  \n",
              "80023  Telefones_e_Celulares     SP        11429    1  \n",
              "80069         Beleza_e_Saude     SP           26    4  \n",
              "80090  Telefones_e_Celulares     SP         3128    3  \n",
              "80104         Beleza_e_Saude     RJ        13206    4  \n",
              "80194  Telefones_e_Celulares     RJ         5400    2  \n",
              "\n",
              "[22047 rows x 10 columns]"
            ]
          },
          "execution_count": 21,
          "metadata": {},
          "output_type": "execute_result"
        }
      ],
      "source": [
        "vendas_correto[\"mes\"] = vendas_correto['Data'].dt.month\n",
        "vendas_correto"
      ]
    },
    {
      "cell_type": "code",
      "execution_count": null,
      "metadata": {
        "id": "HlfVVdJ8grtP",
        "outputId": "4ecaf780-a394-4e41-9664-89dbcde160bd"
      },
      "outputs": [
        {
          "data": {
            "text/plain": [
              "mes\n",
              "3    5590\n",
              "4    5454\n",
              "1    5309\n",
              "2    5138\n",
              "Name: idcompra, dtype: int64"
            ]
          },
          "execution_count": 22,
          "metadata": {},
          "output_type": "execute_result"
        }
      ],
      "source": [
        "vendas_correto.groupby('mes').idcompra.nunique().sort_values(ascending=False)"
      ]
    },
    {
      "cell_type": "markdown",
      "metadata": {
        "id": "3Yi4GMM-grtP"
      },
      "source": [
        "## Join"
      ]
    },
    {
      "cell_type": "markdown",
      "metadata": {
        "id": "00n-RK84grtQ"
      },
      "source": [
        "### Preprando a base para realizar o join"
      ]
    },
    {
      "cell_type": "code",
      "execution_count": null,
      "metadata": {
        "id": "VkHYpoPWgrtQ"
      },
      "outputs": [],
      "source": [
        "cliente = pd.read_excel('H:\\ESTUDOS\\AnaliseDeDADOS\\python\\DNC\\python\\material\\Colabs e Datasets\\cliente_varejo.xlsx')"
      ]
    },
    {
      "cell_type": "code",
      "execution_count": null,
      "metadata": {
        "id": "uwfkTxm-grtQ",
        "outputId": "462e0783-2ca1-4a17-bc50-4ba2bba7c7b4"
      },
      "outputs": [
        {
          "data": {
            "text/html": [
              "<div>\n",
              "<style scoped>\n",
              "    .dataframe tbody tr th:only-of-type {\n",
              "        vertical-align: middle;\n",
              "    }\n",
              "\n",
              "    .dataframe tbody tr th {\n",
              "        vertical-align: top;\n",
              "    }\n",
              "\n",
              "    .dataframe thead th {\n",
              "        text-align: right;\n",
              "    }\n",
              "</style>\n",
              "<table border=\"1\" class=\"dataframe\">\n",
              "  <thead>\n",
              "    <tr style=\"text-align: right;\">\n",
              "      <th></th>\n",
              "      <th>cliente_Log</th>\n",
              "      <th>idade</th>\n",
              "      <th>renda</th>\n",
              "    </tr>\n",
              "  </thead>\n",
              "  <tbody>\n",
              "    <tr>\n",
              "      <th>0</th>\n",
              "      <td>15042</td>\n",
              "      <td>89</td>\n",
              "      <td>11337</td>\n",
              "    </tr>\n",
              "    <tr>\n",
              "      <th>1</th>\n",
              "      <td>17590</td>\n",
              "      <td>54</td>\n",
              "      <td>2050</td>\n",
              "    </tr>\n",
              "    <tr>\n",
              "      <th>2</th>\n",
              "      <td>15478</td>\n",
              "      <td>47</td>\n",
              "      <td>8258</td>\n",
              "    </tr>\n",
              "    <tr>\n",
              "      <th>3</th>\n",
              "      <td>2933</td>\n",
              "      <td>39</td>\n",
              "      <td>4671</td>\n",
              "    </tr>\n",
              "    <tr>\n",
              "      <th>4</th>\n",
              "      <td>19790</td>\n",
              "      <td>26</td>\n",
              "      <td>9207</td>\n",
              "    </tr>\n",
              "  </tbody>\n",
              "</table>\n",
              "</div>"
            ],
            "text/plain": [
              "   cliente_Log  idade  renda\n",
              "0        15042     89  11337\n",
              "1        17590     54   2050\n",
              "2        15478     47   8258\n",
              "3         2933     39   4671\n",
              "4        19790     26   9207"
            ]
          },
          "execution_count": 24,
          "metadata": {},
          "output_type": "execute_result"
        }
      ],
      "source": [
        "cliente.head()"
      ]
    },
    {
      "cell_type": "code",
      "execution_count": null,
      "metadata": {
        "id": "hsUbs086grtQ",
        "outputId": "604cb57f-d0b5-4969-ecf8-37a94c5343d4"
      },
      "outputs": [
        {
          "data": {
            "text/html": [
              "<div>\n",
              "<style scoped>\n",
              "    .dataframe tbody tr th:only-of-type {\n",
              "        vertical-align: middle;\n",
              "    }\n",
              "\n",
              "    .dataframe tbody tr th {\n",
              "        vertical-align: top;\n",
              "    }\n",
              "\n",
              "    .dataframe thead th {\n",
              "        text-align: right;\n",
              "    }\n",
              "</style>\n",
              "<table border=\"1\" class=\"dataframe\">\n",
              "  <thead>\n",
              "    <tr style=\"text-align: right;\">\n",
              "      <th></th>\n",
              "      <th>idcompra</th>\n",
              "      <th>idcanalvenda</th>\n",
              "      <th>bandeira</th>\n",
              "      <th>Data</th>\n",
              "      <th>Preço</th>\n",
              "      <th>Preço_com_frete</th>\n",
              "      <th>Nome_Departamento</th>\n",
              "      <th>estado</th>\n",
              "      <th>cliente_Log</th>\n",
              "      <th>mes</th>\n",
              "    </tr>\n",
              "  </thead>\n",
              "  <tbody>\n",
              "    <tr>\n",
              "      <th>2</th>\n",
              "      <td>437305</td>\n",
              "      <td>Mobile</td>\n",
              "      <td>A</td>\n",
              "      <td>2023-03-06</td>\n",
              "      <td>35.92</td>\n",
              "      <td>37.512</td>\n",
              "      <td>Bebes</td>\n",
              "      <td>SP</td>\n",
              "      <td>15478</td>\n",
              "      <td>3</td>\n",
              "    </tr>\n",
              "    <tr>\n",
              "      <th>4</th>\n",
              "      <td>455795</td>\n",
              "      <td>Mobile</td>\n",
              "      <td>B</td>\n",
              "      <td>2023-03-31</td>\n",
              "      <td>1743.20</td>\n",
              "      <td>1785.112</td>\n",
              "      <td>Esporte_e_Lazer</td>\n",
              "      <td>RS</td>\n",
              "      <td>19790</td>\n",
              "      <td>3</td>\n",
              "    </tr>\n",
              "    <tr>\n",
              "      <th>8</th>\n",
              "      <td>75525</td>\n",
              "      <td>Mobile</td>\n",
              "      <td>B</td>\n",
              "      <td>2023-02-19</td>\n",
              "      <td>679.20</td>\n",
              "      <td>695.120</td>\n",
              "      <td>Moveis</td>\n",
              "      <td>SP</td>\n",
              "      <td>3442</td>\n",
              "      <td>2</td>\n",
              "    </tr>\n",
              "    <tr>\n",
              "      <th>19</th>\n",
              "      <td>258580</td>\n",
              "      <td>Mobile</td>\n",
              "      <td>A</td>\n",
              "      <td>2023-03-27</td>\n",
              "      <td>107.76</td>\n",
              "      <td>109.344</td>\n",
              "      <td>Bebes</td>\n",
              "      <td>ES</td>\n",
              "      <td>7662</td>\n",
              "      <td>3</td>\n",
              "    </tr>\n",
              "    <tr>\n",
              "      <th>22</th>\n",
              "      <td>306675</td>\n",
              "      <td>Mobile</td>\n",
              "      <td>B</td>\n",
              "      <td>2023-02-17</td>\n",
              "      <td>471.20</td>\n",
              "      <td>511.120</td>\n",
              "      <td>Eletrodomesticos</td>\n",
              "      <td>RJ</td>\n",
              "      <td>15060</td>\n",
              "      <td>2</td>\n",
              "    </tr>\n",
              "  </tbody>\n",
              "</table>\n",
              "</div>"
            ],
            "text/plain": [
              "    idcompra idcanalvenda bandeira       Data    Preço  Preço_com_frete  \\\n",
              "2     437305       Mobile        A 2023-03-06    35.92           37.512   \n",
              "4     455795       Mobile        B 2023-03-31  1743.20         1785.112   \n",
              "8      75525       Mobile        B 2023-02-19   679.20          695.120   \n",
              "19    258580       Mobile        A 2023-03-27   107.76          109.344   \n",
              "22    306675       Mobile        B 2023-02-17   471.20          511.120   \n",
              "\n",
              "   Nome_Departamento estado  cliente_Log  mes  \n",
              "2              Bebes     SP        15478    3  \n",
              "4    Esporte_e_Lazer     RS        19790    3  \n",
              "8             Moveis     SP         3442    2  \n",
              "19             Bebes     ES         7662    3  \n",
              "22  Eletrodomesticos     RJ        15060    2  "
            ]
          },
          "execution_count": 25,
          "metadata": {},
          "output_type": "execute_result"
        }
      ],
      "source": [
        "vendas_correto.head()"
      ]
    },
    {
      "cell_type": "code",
      "execution_count": null,
      "metadata": {
        "id": "X5QdABEIgrtQ",
        "outputId": "5e8ee1bd-b5ff-4673-c2a0-6af14a0fd908"
      },
      "outputs": [
        {
          "data": {
            "text/html": [
              "<div>\n",
              "<style scoped>\n",
              "    .dataframe tbody tr th:only-of-type {\n",
              "        vertical-align: middle;\n",
              "    }\n",
              "\n",
              "    .dataframe tbody tr th {\n",
              "        vertical-align: top;\n",
              "    }\n",
              "\n",
              "    .dataframe thead th {\n",
              "        text-align: right;\n",
              "    }\n",
              "</style>\n",
              "<table border=\"1\" class=\"dataframe\">\n",
              "  <thead>\n",
              "    <tr style=\"text-align: right;\">\n",
              "      <th></th>\n",
              "      <th>idade</th>\n",
              "      <th>renda</th>\n",
              "    </tr>\n",
              "  </thead>\n",
              "  <tbody>\n",
              "    <tr>\n",
              "      <th>count</th>\n",
              "      <td>26425.000000</td>\n",
              "      <td>26425.000000</td>\n",
              "    </tr>\n",
              "    <tr>\n",
              "      <th>mean</th>\n",
              "      <td>53.412564</td>\n",
              "      <td>8241.470350</td>\n",
              "    </tr>\n",
              "    <tr>\n",
              "      <th>std</th>\n",
              "      <td>20.698825</td>\n",
              "      <td>3899.871482</td>\n",
              "    </tr>\n",
              "    <tr>\n",
              "      <th>min</th>\n",
              "      <td>18.000000</td>\n",
              "      <td>1500.000000</td>\n",
              "    </tr>\n",
              "    <tr>\n",
              "      <th>25%</th>\n",
              "      <td>35.000000</td>\n",
              "      <td>4859.000000</td>\n",
              "    </tr>\n",
              "    <tr>\n",
              "      <th>50%</th>\n",
              "      <td>53.000000</td>\n",
              "      <td>8234.000000</td>\n",
              "    </tr>\n",
              "    <tr>\n",
              "      <th>75%</th>\n",
              "      <td>71.000000</td>\n",
              "      <td>11629.000000</td>\n",
              "    </tr>\n",
              "    <tr>\n",
              "      <th>max</th>\n",
              "      <td>89.000000</td>\n",
              "      <td>15000.000000</td>\n",
              "    </tr>\n",
              "  </tbody>\n",
              "</table>\n",
              "</div>"
            ],
            "text/plain": [
              "              idade         renda\n",
              "count  26425.000000  26425.000000\n",
              "mean      53.412564   8241.470350\n",
              "std       20.698825   3899.871482\n",
              "min       18.000000   1500.000000\n",
              "25%       35.000000   4859.000000\n",
              "50%       53.000000   8234.000000\n",
              "75%       71.000000  11629.000000\n",
              "max       89.000000  15000.000000"
            ]
          },
          "execution_count": 26,
          "metadata": {},
          "output_type": "execute_result"
        }
      ],
      "source": [
        "cliente[['idade', 'renda']].describe()"
      ]
    },
    {
      "cell_type": "code",
      "execution_count": null,
      "metadata": {
        "id": "ZBvr6RJwgrtR",
        "outputId": "c1876087-ecf1-4f83-dd23-4063a5d40cc5"
      },
      "outputs": [
        {
          "name": "stdout",
          "output_type": "stream",
          "text": [
            "<class 'pandas.core.frame.DataFrame'>\n",
            "RangeIndex: 26425 entries, 0 to 26424\n",
            "Data columns (total 3 columns):\n",
            " #   Column       Non-Null Count  Dtype  \n",
            "---  ------       --------------  -----  \n",
            " 0   cliente_Log  26425 non-null  int64  \n",
            " 1   idade        26425 non-null  int64  \n",
            " 2   renda        26425 non-null  float64\n",
            "dtypes: float64(1), int64(2)\n",
            "memory usage: 619.5 KB\n"
          ]
        }
      ],
      "source": [
        "# cliente['renda'] = cliente['renda'].astype(float) # minha solução\n",
        "# pode ser feito tbm assim\n",
        "\n",
        "cliente = cliente.astype({'renda': 'float'})\n",
        "cliente.info()"
      ]
    },
    {
      "cell_type": "markdown",
      "metadata": {
        "id": "ewYhgxjEgrtR"
      },
      "source": [
        "### Realização do Join"
      ]
    },
    {
      "cell_type": "code",
      "execution_count": null,
      "metadata": {
        "id": "jZUXmU6zgrtR",
        "outputId": "8343078c-8e8b-4513-949f-50890ed68bc4"
      },
      "outputs": [
        {
          "data": {
            "text/html": [
              "<div>\n",
              "<style scoped>\n",
              "    .dataframe tbody tr th:only-of-type {\n",
              "        vertical-align: middle;\n",
              "    }\n",
              "\n",
              "    .dataframe tbody tr th {\n",
              "        vertical-align: top;\n",
              "    }\n",
              "\n",
              "    .dataframe thead th {\n",
              "        text-align: right;\n",
              "    }\n",
              "</style>\n",
              "<table border=\"1\" class=\"dataframe\">\n",
              "  <thead>\n",
              "    <tr style=\"text-align: right;\">\n",
              "      <th></th>\n",
              "      <th>idcompra</th>\n",
              "      <th>idcanalvenda</th>\n",
              "      <th>bandeira</th>\n",
              "      <th>Data</th>\n",
              "      <th>Preço</th>\n",
              "      <th>Preço_com_frete</th>\n",
              "      <th>Nome_Departamento</th>\n",
              "      <th>estado</th>\n",
              "      <th>cliente_Log</th>\n",
              "      <th>mes</th>\n",
              "      <th>idade</th>\n",
              "      <th>renda</th>\n",
              "    </tr>\n",
              "  </thead>\n",
              "  <tbody>\n",
              "    <tr>\n",
              "      <th>0</th>\n",
              "      <td>437305</td>\n",
              "      <td>Mobile</td>\n",
              "      <td>A</td>\n",
              "      <td>2023-03-06</td>\n",
              "      <td>35.92</td>\n",
              "      <td>37.512</td>\n",
              "      <td>Bebes</td>\n",
              "      <td>SP</td>\n",
              "      <td>15478</td>\n",
              "      <td>3</td>\n",
              "      <td>47</td>\n",
              "      <td>8258.0</td>\n",
              "    </tr>\n",
              "    <tr>\n",
              "      <th>1</th>\n",
              "      <td>455795</td>\n",
              "      <td>Mobile</td>\n",
              "      <td>B</td>\n",
              "      <td>2023-03-31</td>\n",
              "      <td>1743.20</td>\n",
              "      <td>1785.112</td>\n",
              "      <td>Esporte_e_Lazer</td>\n",
              "      <td>RS</td>\n",
              "      <td>19790</td>\n",
              "      <td>3</td>\n",
              "      <td>26</td>\n",
              "      <td>9207.0</td>\n",
              "    </tr>\n",
              "    <tr>\n",
              "      <th>2</th>\n",
              "      <td>455795</td>\n",
              "      <td>Mobile</td>\n",
              "      <td>B</td>\n",
              "      <td>2023-03-31</td>\n",
              "      <td>1743.20</td>\n",
              "      <td>1785.112</td>\n",
              "      <td>Esporte_e_Lazer</td>\n",
              "      <td>RS</td>\n",
              "      <td>19790</td>\n",
              "      <td>3</td>\n",
              "      <td>58</td>\n",
              "      <td>9204.0</td>\n",
              "    </tr>\n",
              "    <tr>\n",
              "      <th>3</th>\n",
              "      <td>455795</td>\n",
              "      <td>Mobile</td>\n",
              "      <td>B</td>\n",
              "      <td>2023-03-31</td>\n",
              "      <td>1743.20</td>\n",
              "      <td>1785.112</td>\n",
              "      <td>Esporte_e_Lazer</td>\n",
              "      <td>RS</td>\n",
              "      <td>19790</td>\n",
              "      <td>3</td>\n",
              "      <td>48</td>\n",
              "      <td>2796.0</td>\n",
              "    </tr>\n",
              "    <tr>\n",
              "      <th>4</th>\n",
              "      <td>75525</td>\n",
              "      <td>Mobile</td>\n",
              "      <td>B</td>\n",
              "      <td>2023-02-19</td>\n",
              "      <td>679.20</td>\n",
              "      <td>695.120</td>\n",
              "      <td>Moveis</td>\n",
              "      <td>SP</td>\n",
              "      <td>3442</td>\n",
              "      <td>2</td>\n",
              "      <td>78</td>\n",
              "      <td>6596.0</td>\n",
              "    </tr>\n",
              "    <tr>\n",
              "      <th>...</th>\n",
              "      <td>...</td>\n",
              "      <td>...</td>\n",
              "      <td>...</td>\n",
              "      <td>...</td>\n",
              "      <td>...</td>\n",
              "      <td>...</td>\n",
              "      <td>...</td>\n",
              "      <td>...</td>\n",
              "      <td>...</td>\n",
              "      <td>...</td>\n",
              "      <td>...</td>\n",
              "      <td>...</td>\n",
              "    </tr>\n",
              "    <tr>\n",
              "      <th>42773</th>\n",
              "      <td>335120</td>\n",
              "      <td>Aplicativo</td>\n",
              "      <td>B</td>\n",
              "      <td>2023-04-17</td>\n",
              "      <td>55.92</td>\n",
              "      <td>60.776</td>\n",
              "      <td>Beleza_e_Saude</td>\n",
              "      <td>RJ</td>\n",
              "      <td>13206</td>\n",
              "      <td>4</td>\n",
              "      <td>81</td>\n",
              "      <td>13179.0</td>\n",
              "    </tr>\n",
              "    <tr>\n",
              "      <th>42774</th>\n",
              "      <td>335120</td>\n",
              "      <td>Aplicativo</td>\n",
              "      <td>B</td>\n",
              "      <td>2023-04-17</td>\n",
              "      <td>55.92</td>\n",
              "      <td>60.776</td>\n",
              "      <td>Beleza_e_Saude</td>\n",
              "      <td>RJ</td>\n",
              "      <td>13206</td>\n",
              "      <td>4</td>\n",
              "      <td>42</td>\n",
              "      <td>11816.0</td>\n",
              "    </tr>\n",
              "    <tr>\n",
              "      <th>42775</th>\n",
              "      <td>376985</td>\n",
              "      <td>Internet</td>\n",
              "      <td>B</td>\n",
              "      <td>2023-02-10</td>\n",
              "      <td>661.68</td>\n",
              "      <td>676.736</td>\n",
              "      <td>Telefones_e_Celulares</td>\n",
              "      <td>RJ</td>\n",
              "      <td>5400</td>\n",
              "      <td>2</td>\n",
              "      <td>83</td>\n",
              "      <td>4104.0</td>\n",
              "    </tr>\n",
              "    <tr>\n",
              "      <th>42776</th>\n",
              "      <td>376985</td>\n",
              "      <td>Internet</td>\n",
              "      <td>B</td>\n",
              "      <td>2023-02-10</td>\n",
              "      <td>661.68</td>\n",
              "      <td>676.736</td>\n",
              "      <td>Telefones_e_Celulares</td>\n",
              "      <td>RJ</td>\n",
              "      <td>5400</td>\n",
              "      <td>2</td>\n",
              "      <td>43</td>\n",
              "      <td>6005.0</td>\n",
              "    </tr>\n",
              "    <tr>\n",
              "      <th>42777</th>\n",
              "      <td>376985</td>\n",
              "      <td>Internet</td>\n",
              "      <td>B</td>\n",
              "      <td>2023-02-10</td>\n",
              "      <td>661.68</td>\n",
              "      <td>676.736</td>\n",
              "      <td>Telefones_e_Celulares</td>\n",
              "      <td>RJ</td>\n",
              "      <td>5400</td>\n",
              "      <td>2</td>\n",
              "      <td>52</td>\n",
              "      <td>13812.0</td>\n",
              "    </tr>\n",
              "  </tbody>\n",
              "</table>\n",
              "<p>42778 rows × 12 columns</p>\n",
              "</div>"
            ],
            "text/plain": [
              "       idcompra idcanalvenda bandeira       Data    Preço  Preço_com_frete  \\\n",
              "0        437305       Mobile        A 2023-03-06    35.92           37.512   \n",
              "1        455795       Mobile        B 2023-03-31  1743.20         1785.112   \n",
              "2        455795       Mobile        B 2023-03-31  1743.20         1785.112   \n",
              "3        455795       Mobile        B 2023-03-31  1743.20         1785.112   \n",
              "4         75525       Mobile        B 2023-02-19   679.20          695.120   \n",
              "...         ...          ...      ...        ...      ...              ...   \n",
              "42773    335120   Aplicativo        B 2023-04-17    55.92           60.776   \n",
              "42774    335120   Aplicativo        B 2023-04-17    55.92           60.776   \n",
              "42775    376985     Internet        B 2023-02-10   661.68          676.736   \n",
              "42776    376985     Internet        B 2023-02-10   661.68          676.736   \n",
              "42777    376985     Internet        B 2023-02-10   661.68          676.736   \n",
              "\n",
              "           Nome_Departamento estado  cliente_Log  mes  idade    renda  \n",
              "0                      Bebes     SP        15478    3     47   8258.0  \n",
              "1            Esporte_e_Lazer     RS        19790    3     26   9207.0  \n",
              "2            Esporte_e_Lazer     RS        19790    3     58   9204.0  \n",
              "3            Esporte_e_Lazer     RS        19790    3     48   2796.0  \n",
              "4                     Moveis     SP         3442    2     78   6596.0  \n",
              "...                      ...    ...          ...  ...    ...      ...  \n",
              "42773         Beleza_e_Saude     RJ        13206    4     81  13179.0  \n",
              "42774         Beleza_e_Saude     RJ        13206    4     42  11816.0  \n",
              "42775  Telefones_e_Celulares     RJ         5400    2     83   4104.0  \n",
              "42776  Telefones_e_Celulares     RJ         5400    2     43   6005.0  \n",
              "42777  Telefones_e_Celulares     RJ         5400    2     52  13812.0  \n",
              "\n",
              "[42778 rows x 12 columns]"
            ]
          },
          "execution_count": 28,
          "metadata": {},
          "output_type": "execute_result"
        }
      ],
      "source": [
        "vendas_cliente = vendas_correto.merge(cliente, how='left', on='cliente_Log')\n",
        "vendas_cliente"
      ]
    },
    {
      "cell_type": "markdown",
      "metadata": {
        "id": "VlJbs68bgrtR"
      },
      "source": [
        "## Média de renda para cada tipo de canal de venda"
      ]
    },
    {
      "cell_type": "code",
      "execution_count": null,
      "metadata": {
        "id": "NOwXTGuRgrtS",
        "outputId": "4fc58f50-7282-4429-fcb9-7ecd925cf35f"
      },
      "outputs": [
        {
          "data": {
            "text/html": [
              "<div>\n",
              "<style scoped>\n",
              "    .dataframe tbody tr th:only-of-type {\n",
              "        vertical-align: middle;\n",
              "    }\n",
              "\n",
              "    .dataframe tbody tr th {\n",
              "        vertical-align: top;\n",
              "    }\n",
              "\n",
              "    .dataframe thead th {\n",
              "        text-align: right;\n",
              "    }\n",
              "</style>\n",
              "<table border=\"1\" class=\"dataframe\">\n",
              "  <thead>\n",
              "    <tr style=\"text-align: right;\">\n",
              "      <th></th>\n",
              "      <th>idcanalvenda</th>\n",
              "      <th>renda</th>\n",
              "    </tr>\n",
              "  </thead>\n",
              "  <tbody>\n",
              "    <tr>\n",
              "      <th>0</th>\n",
              "      <td>Aplicativo</td>\n",
              "      <td>8244.85</td>\n",
              "    </tr>\n",
              "    <tr>\n",
              "      <th>1</th>\n",
              "      <td>Mobile</td>\n",
              "      <td>8222.72</td>\n",
              "    </tr>\n",
              "    <tr>\n",
              "      <th>2</th>\n",
              "      <td>Internet</td>\n",
              "      <td>8211.84</td>\n",
              "    </tr>\n",
              "  </tbody>\n",
              "</table>\n",
              "</div>"
            ],
            "text/plain": [
              "  idcanalvenda    renda\n",
              "0   Aplicativo  8244.85\n",
              "1       Mobile  8222.72\n",
              "2     Internet  8211.84"
            ]
          },
          "execution_count": 29,
          "metadata": {},
          "output_type": "execute_result"
        }
      ],
      "source": [
        "agg_idcanal_renda = round(vendas_cliente.groupby('idcanalvenda')['renda'].mean().sort_values(ascending=False).reset_index(),2)\n",
        "agg_idcanal_renda"
      ]
    },
    {
      "cell_type": "markdown",
      "metadata": {
        "id": "JrdfenGRgrtS"
      },
      "source": [
        "## Média de idade de clientes por bandeira"
      ]
    },
    {
      "cell_type": "code",
      "execution_count": null,
      "metadata": {
        "id": "i3-28iStgrtS",
        "outputId": "d8bf4bb5-6f94-4f89-dcf7-35ad765c5295"
      },
      "outputs": [
        {
          "data": {
            "text/html": [
              "<div>\n",
              "<style scoped>\n",
              "    .dataframe tbody tr th:only-of-type {\n",
              "        vertical-align: middle;\n",
              "    }\n",
              "\n",
              "    .dataframe tbody tr th {\n",
              "        vertical-align: top;\n",
              "    }\n",
              "\n",
              "    .dataframe thead th {\n",
              "        text-align: right;\n",
              "    }\n",
              "</style>\n",
              "<table border=\"1\" class=\"dataframe\">\n",
              "  <thead>\n",
              "    <tr style=\"text-align: right;\">\n",
              "      <th></th>\n",
              "      <th>bandeira</th>\n",
              "      <th>idade</th>\n",
              "    </tr>\n",
              "  </thead>\n",
              "  <tbody>\n",
              "    <tr>\n",
              "      <th>0</th>\n",
              "      <td>A</td>\n",
              "      <td>53.30</td>\n",
              "    </tr>\n",
              "    <tr>\n",
              "      <th>1</th>\n",
              "      <td>B</td>\n",
              "      <td>53.29</td>\n",
              "    </tr>\n",
              "  </tbody>\n",
              "</table>\n",
              "</div>"
            ],
            "text/plain": [
              "  bandeira  idade\n",
              "0        A  53.30\n",
              "1        B  53.29"
            ]
          },
          "execution_count": 30,
          "metadata": {},
          "output_type": "execute_result"
        }
      ],
      "source": [
        "agg_idade_bandeira = round(vendas_cliente.groupby('bandeira')['idade'].mean().sort_values(ascending=False).reset_index(),2)\n",
        "\n",
        "agg_idade_bandeira"
      ]
    },
    {
      "cell_type": "markdown",
      "metadata": {
        "id": "0mioYxtmgrtS"
      },
      "source": [
        "# DATA VISUALIZATION com MATPLOTLIB"
      ]
    },
    {
      "cell_type": "markdown",
      "metadata": {
        "id": "2HJl6W9KgrtS"
      },
      "source": [
        "## Imports"
      ]
    },
    {
      "cell_type": "code",
      "execution_count": null,
      "metadata": {
        "id": "hWf5-8AOgrtS"
      },
      "outputs": [],
      "source": [
        "import seaborn as sns\n",
        "import matplotlib.pyplot as plt"
      ]
    },
    {
      "cell_type": "code",
      "execution_count": null,
      "metadata": {
        "id": "yk1mNhqbgrtS",
        "outputId": "7ac907c1-9c51-4c6d-e165-85f833a7d24f"
      },
      "outputs": [
        {
          "data": {
            "image/png": "[encoded data removed]",
            "text/plain": [
              "<Figure size 700x400 with 1 Axes>"
            ]
          },
          "metadata": {},
          "output_type": "display_data"
        }
      ],
      "source": [
        "fig = plt.figure(figsize=(7,4))\n",
        "\n",
        "plt.bar(agg_idade_bandeira['bandeira'], agg_idade_bandeira['idade'], color='green')\n",
        "\n",
        "plt.ylabel('Médoa de idade')\n",
        "plt.xlabel('Bandeira')\n",
        "plt.title('Idade média por Bandeira', loc='center', fontsize=18, fontweight='bold', color='black')\n",
        "plt.show()"
      ]
    },
    {
      "cell_type": "code",
      "execution_count": null,
      "metadata": {
        "id": "llyBxrIwgrtT",
        "outputId": "c4006f03-ec87-4f90-99cc-f5393ff384a6"
      },
      "outputs": [
        {
          "data": {
            "image/png": "[encoded data removed]",
            "text/plain": [
              "<Figure size 700x400 with 1 Axes>"
            ]
          },
          "metadata": {},
          "output_type": "display_data"
        }
      ],
      "source": [
        "fig = plt.figure(figsize=(7,4))\n",
        "\n",
        "plt.bar(agg_idcanal_renda['idcanalvenda'], agg_idcanal_renda['renda'], color='green')\n",
        "\n",
        "plt.ylabel('Renda média')\n",
        "plt.xlabel('Canal de Venda')\n",
        "plt.title('Renda média por canal de Venda', loc='center', fontsize=18, fontweight='bold', color='black')\n",
        "plt.show()"
      ]
    },
    {
      "cell_type": "code",
      "execution_count": null,
      "metadata": {
        "id": "aIVFzDYagrtT",
        "outputId": "a85a68fe-b522-49f8-d5d1-30df0f3c34c8"
      },
      "outputs": [
        {
          "data": {
            "text/html": [
              "<div>\n",
              "<style scoped>\n",
              "    .dataframe tbody tr th:only-of-type {\n",
              "        vertical-align: middle;\n",
              "    }\n",
              "\n",
              "    .dataframe tbody tr th {\n",
              "        vertical-align: top;\n",
              "    }\n",
              "\n",
              "    .dataframe thead th {\n",
              "        text-align: right;\n",
              "    }\n",
              "</style>\n",
              "<table border=\"1\" class=\"dataframe\">\n",
              "  <thead>\n",
              "    <tr style=\"text-align: right;\">\n",
              "      <th></th>\n",
              "      <th>Data</th>\n",
              "      <th>idcompra</th>\n",
              "    </tr>\n",
              "  </thead>\n",
              "  <tbody>\n",
              "    <tr>\n",
              "      <th>0</th>\n",
              "      <td>2023-01-02</td>\n",
              "      <td>193</td>\n",
              "    </tr>\n",
              "    <tr>\n",
              "      <th>1</th>\n",
              "      <td>2023-01-03</td>\n",
              "      <td>163</td>\n",
              "    </tr>\n",
              "    <tr>\n",
              "      <th>2</th>\n",
              "      <td>2023-01-04</td>\n",
              "      <td>188</td>\n",
              "    </tr>\n",
              "    <tr>\n",
              "      <th>3</th>\n",
              "      <td>2023-01-05</td>\n",
              "      <td>204</td>\n",
              "    </tr>\n",
              "    <tr>\n",
              "      <th>4</th>\n",
              "      <td>2023-01-06</td>\n",
              "      <td>198</td>\n",
              "    </tr>\n",
              "    <tr>\n",
              "      <th>...</th>\n",
              "      <td>...</td>\n",
              "      <td>...</td>\n",
              "    </tr>\n",
              "    <tr>\n",
              "      <th>114</th>\n",
              "      <td>2023-04-26</td>\n",
              "      <td>200</td>\n",
              "    </tr>\n",
              "    <tr>\n",
              "      <th>115</th>\n",
              "      <td>2023-04-27</td>\n",
              "      <td>212</td>\n",
              "    </tr>\n",
              "    <tr>\n",
              "      <th>116</th>\n",
              "      <td>2023-04-28</td>\n",
              "      <td>192</td>\n",
              "    </tr>\n",
              "    <tr>\n",
              "      <th>117</th>\n",
              "      <td>2023-04-29</td>\n",
              "      <td>187</td>\n",
              "    </tr>\n",
              "    <tr>\n",
              "      <th>118</th>\n",
              "      <td>2023-04-30</td>\n",
              "      <td>192</td>\n",
              "    </tr>\n",
              "  </tbody>\n",
              "</table>\n",
              "<p>119 rows × 2 columns</p>\n",
              "</div>"
            ],
            "text/plain": [
              "          Data  idcompra\n",
              "0   2023-01-02       193\n",
              "1   2023-01-03       163\n",
              "2   2023-01-04       188\n",
              "3   2023-01-05       204\n",
              "4   2023-01-06       198\n",
              "..         ...       ...\n",
              "114 2023-04-26       200\n",
              "115 2023-04-27       212\n",
              "116 2023-04-28       192\n",
              "117 2023-04-29       187\n",
              "118 2023-04-30       192\n",
              "\n",
              "[119 rows x 2 columns]"
            ]
          },
          "execution_count": 34,
          "metadata": {},
          "output_type": "execute_result"
        }
      ],
      "source": [
        "# vendas_por_data = vendas_correto.groupby('Data').idcompra.nunique().sort_values(ascending=False).reset_index()\n",
        "vendas_por_data = vendas_correto.groupby('Data').idcompra.nunique().reset_index()\n",
        "vendas_por_data"
      ]
    },
    {
      "cell_type": "code",
      "execution_count": null,
      "metadata": {
        "id": "AISdkKpxgrtT",
        "outputId": "385440e9-d976-46a3-da6a-292695d8e538"
      },
      "outputs": [
        {
          "data": {
            "image/png": "[encoded data removed]",
            "text/plain": [
              "<Figure size 1000x400 with 1 Axes>"
            ]
          },
          "metadata": {},
          "output_type": "display_data"
        }
      ],
      "source": [
        "fig = plt.figure(figsize=(10,4))\n",
        "\n",
        "plt.xlabel('Data da venda')\n",
        "plt.ylabel('Quantidade de vendas')\n",
        "x = vendas_por_data['Data']\n",
        "y = vendas_por_data['idcompra']\n",
        "\n",
        "plt.plot(x, y, color='green', linewidth=2)\n",
        "plt.xticks(rotation=50)\n",
        "plt.show()"
      ]
    },
    {
      "cell_type": "code",
      "execution_count": null,
      "metadata": {
        "id": "dDddcbsygrtT",
        "outputId": "ae76a739-50ff-473b-89a9-b6fe2ab969d5"
      },
      "outputs": [
        {
          "data": {
            "text/html": [
              "<div>\n",
              "<style scoped>\n",
              "    .dataframe tbody tr th:only-of-type {\n",
              "        vertical-align: middle;\n",
              "    }\n",
              "\n",
              "    .dataframe tbody tr th {\n",
              "        vertical-align: top;\n",
              "    }\n",
              "\n",
              "    .dataframe thead th {\n",
              "        text-align: right;\n",
              "    }\n",
              "</style>\n",
              "<table border=\"1\" class=\"dataframe\">\n",
              "  <thead>\n",
              "    <tr style=\"text-align: right;\">\n",
              "      <th></th>\n",
              "      <th>Nome_Departamento</th>\n",
              "      <th>Preço_com_frete</th>\n",
              "    </tr>\n",
              "  </thead>\n",
              "  <tbody>\n",
              "    <tr>\n",
              "      <th>0</th>\n",
              "      <td>TVs_e_Acessorios</td>\n",
              "      <td>3469.38</td>\n",
              "    </tr>\n",
              "    <tr>\n",
              "      <th>1</th>\n",
              "      <td>Informatica</td>\n",
              "      <td>2159.78</td>\n",
              "    </tr>\n",
              "    <tr>\n",
              "      <th>2</th>\n",
              "      <td>Linha_Industrial</td>\n",
              "      <td>2027.11</td>\n",
              "    </tr>\n",
              "    <tr>\n",
              "      <th>3</th>\n",
              "      <td>Cine_e_Foto</td>\n",
              "      <td>1851.20</td>\n",
              "    </tr>\n",
              "    <tr>\n",
              "      <th>4</th>\n",
              "      <td>Telefones_e_Celulares</td>\n",
              "      <td>1442.19</td>\n",
              "    </tr>\n",
              "    <tr>\n",
              "      <th>5</th>\n",
              "      <td>Eletrodomesticos</td>\n",
              "      <td>1400.66</td>\n",
              "    </tr>\n",
              "    <tr>\n",
              "      <th>6</th>\n",
              "      <td>Esporte_e_Lazer</td>\n",
              "      <td>1123.14</td>\n",
              "    </tr>\n",
              "    <tr>\n",
              "      <th>7</th>\n",
              "      <td>Tablets</td>\n",
              "      <td>1100.23</td>\n",
              "    </tr>\n",
              "    <tr>\n",
              "      <th>8</th>\n",
              "      <td>Games</td>\n",
              "      <td>942.90</td>\n",
              "    </tr>\n",
              "    <tr>\n",
              "      <th>9</th>\n",
              "      <td>Instrumentos_Musicais</td>\n",
              "      <td>834.61</td>\n",
              "    </tr>\n",
              "    <tr>\n",
              "      <th>10</th>\n",
              "      <td>Automotivo</td>\n",
              "      <td>681.57</td>\n",
              "    </tr>\n",
              "    <tr>\n",
              "      <th>11</th>\n",
              "      <td>Moveis</td>\n",
              "      <td>541.03</td>\n",
              "    </tr>\n",
              "    <tr>\n",
              "      <th>12</th>\n",
              "      <td>Ar_e_Ventilacao</td>\n",
              "      <td>518.79</td>\n",
              "    </tr>\n",
              "    <tr>\n",
              "      <th>13</th>\n",
              "      <td>Audio</td>\n",
              "      <td>480.35</td>\n",
              "    </tr>\n",
              "    <tr>\n",
              "      <th>14</th>\n",
              "      <td>Casa_e_Construcao</td>\n",
              "      <td>433.53</td>\n",
              "    </tr>\n",
              "    <tr>\n",
              "      <th>15</th>\n",
              "      <td>Pet_Shop</td>\n",
              "      <td>237.26</td>\n",
              "    </tr>\n",
              "    <tr>\n",
              "      <th>16</th>\n",
              "      <td>Acessorios_e_Inovacoes</td>\n",
              "      <td>229.14</td>\n",
              "    </tr>\n",
              "    <tr>\n",
              "      <th>17</th>\n",
              "      <td>Eletroportateis</td>\n",
              "      <td>223.77</td>\n",
              "    </tr>\n",
              "    <tr>\n",
              "      <th>18</th>\n",
              "      <td>Ferramentas</td>\n",
              "      <td>217.59</td>\n",
              "    </tr>\n",
              "    <tr>\n",
              "      <th>19</th>\n",
              "      <td>Cama,_Mesa_e_Banho</td>\n",
              "      <td>210.70</td>\n",
              "    </tr>\n",
              "    <tr>\n",
              "      <th>20</th>\n",
              "      <td>Malas_e_Mochilas</td>\n",
              "      <td>194.26</td>\n",
              "    </tr>\n",
              "    <tr>\n",
              "      <th>21</th>\n",
              "      <td>Relogios</td>\n",
              "      <td>186.95</td>\n",
              "    </tr>\n",
              "    <tr>\n",
              "      <th>22</th>\n",
              "      <td>Brinquedos</td>\n",
              "      <td>176.45</td>\n",
              "    </tr>\n",
              "    <tr>\n",
              "      <th>23</th>\n",
              "      <td>Utilidades_Domesticas</td>\n",
              "      <td>155.02</td>\n",
              "    </tr>\n",
              "    <tr>\n",
              "      <th>24</th>\n",
              "      <td>Decoracao</td>\n",
              "      <td>144.50</td>\n",
              "    </tr>\n",
              "    <tr>\n",
              "      <th>25</th>\n",
              "      <td>Bebes</td>\n",
              "      <td>130.90</td>\n",
              "    </tr>\n",
              "    <tr>\n",
              "      <th>26</th>\n",
              "      <td>Beleza_e_Saude</td>\n",
              "      <td>119.59</td>\n",
              "    </tr>\n",
              "    <tr>\n",
              "      <th>27</th>\n",
              "      <td>Alimentos</td>\n",
              "      <td>104.24</td>\n",
              "    </tr>\n",
              "    <tr>\n",
              "      <th>28</th>\n",
              "      <td>Perfumaria</td>\n",
              "      <td>80.91</td>\n",
              "    </tr>\n",
              "    <tr>\n",
              "      <th>29</th>\n",
              "      <td>Produtos_de_Limpeza</td>\n",
              "      <td>68.79</td>\n",
              "    </tr>\n",
              "    <tr>\n",
              "      <th>30</th>\n",
              "      <td>Moda</td>\n",
              "      <td>47.01</td>\n",
              "    </tr>\n",
              "  </tbody>\n",
              "</table>\n",
              "</div>"
            ],
            "text/plain": [
              "         Nome_Departamento  Preço_com_frete\n",
              "0         TVs_e_Acessorios          3469.38\n",
              "1              Informatica          2159.78\n",
              "2         Linha_Industrial          2027.11\n",
              "3              Cine_e_Foto          1851.20\n",
              "4    Telefones_e_Celulares          1442.19\n",
              "5         Eletrodomesticos          1400.66\n",
              "6          Esporte_e_Lazer          1123.14\n",
              "7                  Tablets          1100.23\n",
              "8                    Games           942.90\n",
              "9    Instrumentos_Musicais           834.61\n",
              "10              Automotivo           681.57\n",
              "11                  Moveis           541.03\n",
              "12         Ar_e_Ventilacao           518.79\n",
              "13                   Audio           480.35\n",
              "14       Casa_e_Construcao           433.53\n",
              "15                Pet_Shop           237.26\n",
              "16  Acessorios_e_Inovacoes           229.14\n",
              "17         Eletroportateis           223.77\n",
              "18             Ferramentas           217.59\n",
              "19      Cama,_Mesa_e_Banho           210.70\n",
              "20        Malas_e_Mochilas           194.26\n",
              "21                Relogios           186.95\n",
              "22              Brinquedos           176.45\n",
              "23   Utilidades_Domesticas           155.02\n",
              "24               Decoracao           144.50\n",
              "25                   Bebes           130.90\n",
              "26          Beleza_e_Saude           119.59\n",
              "27               Alimentos           104.24\n",
              "28              Perfumaria            80.91\n",
              "29     Produtos_de_Limpeza            68.79\n",
              "30                    Moda            47.01"
            ]
          },
          "execution_count": 36,
          "metadata": {},
          "output_type": "execute_result"
        }
      ],
      "source": [
        "agg_dept_preco = round(vendas_correto.groupby('Nome_Departamento')['Preço_com_frete'].mean().sort_values(ascending=False).reset_index(),2)\n",
        "agg_dept_preco"
      ]
    },
    {
      "cell_type": "code",
      "execution_count": null,
      "metadata": {
        "id": "5OG9_NKJgrtT",
        "outputId": "1c0fe108-7f20-41a0-b02a-595896197ec5"
      },
      "outputs": [
        {
          "data": {
            "image/png": "[encoded data removed]",
            "text/plain": [
              "<Figure size 2300x400 with 1 Axes>"
            ]
          },
          "metadata": {},
          "output_type": "display_data"
        }
      ],
      "source": [
        "fig = plt.figure(figsize=(23,4))\n",
        "\n",
        "plt.title('Quantidade de vendas por mês', loc='center', fontsize=18, fontweight='bold', color='black')\n",
        "plt.xlabel('Departamento')\n",
        "plt.ylabel('Preço com Frete')\n",
        "x = agg_dept_preco['Nome_Departamento']\n",
        "y = agg_dept_preco['Preço_com_frete']\n",
        "\n",
        "plt.bar(x, y, color='green', linewidth=2)\n",
        "plt.xticks(rotation=50)\n",
        "plt.show()"
      ]
    },
    {
      "cell_type": "markdown",
      "metadata": {
        "id": "jrwsZMOfgrtT"
      },
      "source": [
        "# Utilização do Plotly"
      ]
    },
    {
      "cell_type": "markdown",
      "metadata": {
        "id": "BzYs1cuxgrtU"
      },
      "source": [
        "## Imports"
      ]
    },
    {
      "cell_type": "code",
      "execution_count": null,
      "metadata": {
        "id": "W2_1iy9vgrtU"
      },
      "outputs": [],
      "source": [
        "import chart_studio.plotly as py\n",
        "import cufflinks as cf\n",
        "\n",
        "import plotly.graph_objects as go\n",
        "import plotly.express as px"
      ]
    },
    {
      "cell_type": "code",
      "execution_count": null,
      "metadata": {
        "id": "RNa4v_y1grtU",
        "outputId": "898da34d-751c-4fb5-f70a-8f1d1fd74d09"
      },
      "outputs": [
        {
          "data": {
            "application/vnd.plotly.v1+json": {
              "config": {
                "plotlyServerURL": "https://plot.ly"
              },
              "data": [
                {
                  "alignmentgroup": "True",
                  "hovertemplate": "bandeira=%{x}<br>idade=%{y}<extra></extra>",
                  "legendgroup": "",
                  "marker": {
                    "color": "#636efa",
                    "pattern": {
                      "shape": ""
                    }
                  },
                  "name": "",
                  "offsetgroup": "",
                  "orientation": "v",
                  "showlegend": false,
                  "textposition": "auto",
                  "type": "bar",
                  "x": [
                    "A",
                    "B"
                  ],
                  "xaxis": "x",
                  "y": [
                    53.3,
                    53.29
                  ],
                  "yaxis": "y"
                }
              ],
              "layout": {
                "barmode": "relative",
                "legend": {
                  "tracegroupgap": 0
                },
                "margin": {
                  "t": 60
                },
                "template": {
                  "data": {
                    "bar": [
                      {
                        "error_x": {
                          "color": "#2a3f5f"
                        },
                        "error_y": {
                          "color": "#2a3f5f"
                        },
                        "marker": {
                          "line": {
                            "color": "#E5ECF6",
                            "width": 0.5
                          },
                          "pattern": {
                            "fillmode": "overlay",
                            "size": 10,
                            "solidity": 0.2
                          }
                        },
                        "type": "bar"
                      }
                    ],
                    "barpolar": [
                      {
                        "marker": {
                          "line": {
                            "color": "#E5ECF6",
                            "width": 0.5
                          },
                          "pattern": {
                            "fillmode": "overlay",
                            "size": 10,
                            "solidity": 0.2
                          }
                        },
                        "type": "barpolar"
                      }
                    ],
                    "carpet": [
                      {
                        "aaxis": {
                          "endlinecolor": "#2a3f5f",
                          "gridcolor": "white",
                          "linecolor": "white",
                          "minorgridcolor": "white",
                          "startlinecolor": "#2a3f5f"
                        },
                        "baxis": {
                          "endlinecolor": "#2a3f5f",
                          "gridcolor": "white",
                          "linecolor": "white",
                          "minorgridcolor": "white",
                          "startlinecolor": "#2a3f5f"
                        },
                        "type": "carpet"
                      }
                    ],
                    "choropleth": [
                      {
                        "colorbar": {
                          "outlinewidth": 0,
                          "ticks": ""
                        },
                        "type": "choropleth"
                      }
                    ],
                    "contour": [
                      {
                        "colorbar": {
                          "outlinewidth": 0,
                          "ticks": ""
                        },
                        "colorscale": [
                          [
                            0,
                            "#0d0887"
                          ],
                          [
                            0.1111111111111111,
                            "#46039f"
                          ],
                          [
                            0.2222222222222222,
                            "#7201a8"
                          ],
                          [
                            0.3333333333333333,
                            "#9c179e"
                          ],
                          [
                            0.4444444444444444,
                            "#bd3786"
                          ],
                          [
                            0.5555555555555556,
                            "#d8576b"
                          ],
                          [
                            0.6666666666666666,
                            "#ed7953"
                          ],
                          [
                            0.7777777777777778,
                            "#fb9f3a"
                          ],
                          [
                            0.8888888888888888,
                            "#fdca26"
                          ],
                          [
                            1,
                            "#f0f921"
                          ]
                        ],
                        "type": "contour"
                      }
                    ],
                    "contourcarpet": [
                      {
                        "colorbar": {
                          "outlinewidth": 0,
                          "ticks": ""
                        },
                        "type": "contourcarpet"
                      }
                    ],
                    "heatmap": [
                      {
                        "colorbar": {
                          "outlinewidth": 0,
                          "ticks": ""
                        },
                        "colorscale": [
                          [
                            0,
                            "#0d0887"
                          ],
                          [
                            0.1111111111111111,
                            "#46039f"
                          ],
                          [
                            0.2222222222222222,
                            "#7201a8"
                          ],
                          [
                            0.3333333333333333,
                            "#9c179e"
                          ],
                          [
                            0.4444444444444444,
                            "#bd3786"
                          ],
                          [
                            0.5555555555555556,
                            "#d8576b"
                          ],
                          [
                            0.6666666666666666,
                            "#ed7953"
                          ],
                          [
                            0.7777777777777778,
                            "#fb9f3a"
                          ],
                          [
                            0.8888888888888888,
                            "#fdca26"
                          ],
                          [
                            1,
                            "#f0f921"
                          ]
                        ],
                        "type": "heatmap"
                      }
                    ],
                    "heatmapgl": [
                      {
                        "colorbar": {
                          "outlinewidth": 0,
                          "ticks": ""
                        },
                        "colorscale": [
                          [
                            0,
                            "#0d0887"
                          ],
                          [
                            0.1111111111111111,
                            "#46039f"
                          ],
                          [
                            0.2222222222222222,
                            "#7201a8"
                          ],
                          [
                            0.3333333333333333,
                            "#9c179e"
                          ],
                          [
                            0.4444444444444444,
                            "#bd3786"
                          ],
                          [
                            0.5555555555555556,
                            "#d8576b"
                          ],
                          [
                            0.6666666666666666,
                            "#ed7953"
                          ],
                          [
                            0.7777777777777778,
                            "#fb9f3a"
                          ],
                          [
                            0.8888888888888888,
                            "#fdca26"
                          ],
                          [
                            1,
                            "#f0f921"
                          ]
                        ],
                        "type": "heatmapgl"
                      }
                    ],
                    "histogram": [
                      {
                        "marker": {
                          "pattern": {
                            "fillmode": "overlay",
                            "size": 10,
                            "solidity": 0.2
                          }
                        },
                        "type": "histogram"
                      }
                    ],
                    "histogram2d": [
                      {
                        "colorbar": {
                          "outlinewidth": 0,
                          "ticks": ""
                        },
                        "colorscale": [
                          [
                            0,
                            "#0d0887"
                          ],
                          [
                            0.1111111111111111,
                            "#46039f"
                          ],
                          [
                            0.2222222222222222,
                            "#7201a8"
                          ],
                          [
                            0.3333333333333333,
                            "#9c179e"
                          ],
                          [
                            0.4444444444444444,
                            "#bd3786"
                          ],
                          [
                            0.5555555555555556,
                            "#d8576b"
                          ],
                          [
                            0.6666666666666666,
                            "#ed7953"
                          ],
                          [
                            0.7777777777777778,
                            "#fb9f3a"
                          ],
                          [
                            0.8888888888888888,
                            "#fdca26"
                          ],
                          [
                            1,
                            "#f0f921"
                          ]
                        ],
                        "type": "histogram2d"
                      }
                    ],
                    "histogram2dcontour": [
                      {
                        "colorbar": {
                          "outlinewidth": 0,
                          "ticks": ""
                        },
                        "colorscale": [
                          [
                            0,
                            "#0d0887"
                          ],
                          [
                            0.1111111111111111,
                            "#46039f"
                          ],
                          [
                            0.2222222222222222,
                            "#7201a8"
                          ],
                          [
                            0.3333333333333333,
                            "#9c179e"
                          ],
                          [
                            0.4444444444444444,
                            "#bd3786"
                          ],
                          [
                            0.5555555555555556,
                            "#d8576b"
                          ],
                          [
                            0.6666666666666666,
                            "#ed7953"
                          ],
                          [
                            0.7777777777777778,
                            "#fb9f3a"
                          ],
                          [
                            0.8888888888888888,
                            "#fdca26"
                          ],
                          [
                            1,
                            "#f0f921"
                          ]
                        ],
                        "type": "histogram2dcontour"
                      }
                    ],
                    "mesh3d": [
                      {
                        "colorbar": {
                          "outlinewidth": 0,
                          "ticks": ""
                        },
                        "type": "mesh3d"
                      }
                    ],
                    "parcoords": [
                      {
                        "line": {
                          "colorbar": {
                            "outlinewidth": 0,
                            "ticks": ""
                          }
                        },
                        "type": "parcoords"
                      }
                    ],
                    "pie": [
                      {
                        "automargin": true,
                        "type": "pie"
                      }
                    ],
                    "scatter": [
                      {
                        "fillpattern": {
                          "fillmode": "overlay",
                          "size": 10,
                          "solidity": 0.2
                        },
                        "type": "scatter"
                      }
                    ],
                    "scatter3d": [
                      {
                        "line": {
                          "colorbar": {
                            "outlinewidth": 0,
                            "ticks": ""
                          }
                        },
                        "marker": {
                          "colorbar": {
                            "outlinewidth": 0,
                            "ticks": ""
                          }
                        },
                        "type": "scatter3d"
                      }
                    ],
                    "scattercarpet": [
                      {
                        "marker": {
                          "colorbar": {
                            "outlinewidth": 0,
                            "ticks": ""
                          }
                        },
                        "type": "scattercarpet"
                      }
                    ],
                    "scattergeo": [
                      {
                        "marker": {
                          "colorbar": {
                            "outlinewidth": 0,
                            "ticks": ""
                          }
                        },
                        "type": "scattergeo"
                      }
                    ],
                    "scattergl": [
                      {
                        "marker": {
                          "colorbar": {
                            "outlinewidth": 0,
                            "ticks": ""
                          }
                        },
                        "type": "scattergl"
                      }
                    ],
                    "scattermapbox": [
                      {
                        "marker": {
                          "colorbar": {
                            "outlinewidth": 0,
                            "ticks": ""
                          }
                        },
                        "type": "scattermapbox"
                      }
                    ],
                    "scatterpolar": [
                      {
                        "marker": {
                          "colorbar": {
                            "outlinewidth": 0,
                            "ticks": ""
                          }
                        },
                        "type": "scatterpolar"
                      }
                    ],
                    "scatterpolargl": [
                      {
                        "marker": {
                          "colorbar": {
                            "outlinewidth": 0,
                            "ticks": ""
                          }
                        },
                        "type": "scatterpolargl"
                      }
                    ],
                    "scatterternary": [
                      {
                        "marker": {
                          "colorbar": {
                            "outlinewidth": 0,
                            "ticks": ""
                          }
                        },
                        "type": "scatterternary"
                      }
                    ],
                    "surface": [
                      {
                        "colorbar": {
                          "outlinewidth": 0,
                          "ticks": ""
                        },
                        "colorscale": [
                          [
                            0,
                            "#0d0887"
                          ],
                          [
                            0.1111111111111111,
                            "#46039f"
                          ],
                          [
                            0.2222222222222222,
                            "#7201a8"
                          ],
                          [
                            0.3333333333333333,
                            "#9c179e"
                          ],
                          [
                            0.4444444444444444,
                            "#bd3786"
                          ],
                          [
                            0.5555555555555556,
                            "#d8576b"
                          ],
                          [
                            0.6666666666666666,
                            "#ed7953"
                          ],
                          [
                            0.7777777777777778,
                            "#fb9f3a"
                          ],
                          [
                            0.8888888888888888,
                            "#fdca26"
                          ],
                          [
                            1,
                            "#f0f921"
                          ]
                        ],
                        "type": "surface"
                      }
                    ],
                    "table": [
                      {
                        "cells": {
                          "fill": {
                            "color": "#EBF0F8"
                          },
                          "line": {
                            "color": "white"
                          }
                        },
                        "header": {
                          "fill": {
                            "color": "#C8D4E3"
                          },
                          "line": {
                            "color": "white"
                          }
                        },
                        "type": "table"
                      }
                    ]
                  },
                  "layout": {
                    "annotationdefaults": {
                      "arrowcolor": "#2a3f5f",
                      "arrowhead": 0,
                      "arrowwidth": 1
                    },
                    "autotypenumbers": "strict",
                    "coloraxis": {
                      "colorbar": {
                        "outlinewidth": 0,
                        "ticks": ""
                      }
                    },
                    "colorscale": {
                      "diverging": [
                        [
                          0,
                          "#8e0152"
                        ],
                        [
                          0.1,
                          "#c51b7d"
                        ],
                        [
                          0.2,
                          "#de77ae"
                        ],
                        [
                          0.3,
                          "#f1b6da"
                        ],
                        [
                          0.4,
                          "#fde0ef"
                        ],
                        [
                          0.5,
                          "#f7f7f7"
                        ],
                        [
                          0.6,
                          "#e6f5d0"
                        ],
                        [
                          0.7,
                          "#b8e186"
                        ],
                        [
                          0.8,
                          "#7fbc41"
                        ],
                        [
                          0.9,
                          "#4d9221"
                        ],
                        [
                          1,
                          "#276419"
                        ]
                      ],
                      "sequential": [
                        [
                          0,
                          "#0d0887"
                        ],
                        [
                          0.1111111111111111,
                          "#46039f"
                        ],
                        [
                          0.2222222222222222,
                          "#7201a8"
                        ],
                        [
                          0.3333333333333333,
                          "#9c179e"
                        ],
                        [
                          0.4444444444444444,
                          "#bd3786"
                        ],
                        [
                          0.5555555555555556,
                          "#d8576b"
                        ],
                        [
                          0.6666666666666666,
                          "#ed7953"
                        ],
                        [
                          0.7777777777777778,
                          "#fb9f3a"
                        ],
                        [
                          0.8888888888888888,
                          "#fdca26"
                        ],
                        [
                          1,
                          "#f0f921"
                        ]
                      ],
                      "sequentialminus": [
                        [
                          0,
                          "#0d0887"
                        ],
                        [
                          0.1111111111111111,
                          "#46039f"
                        ],
                        [
                          0.2222222222222222,
                          "#7201a8"
                        ],
                        [
                          0.3333333333333333,
                          "#9c179e"
                        ],
                        [
                          0.4444444444444444,
                          "#bd3786"
                        ],
                        [
                          0.5555555555555556,
                          "#d8576b"
                        ],
                        [
                          0.6666666666666666,
                          "#ed7953"
                        ],
                        [
                          0.7777777777777778,
                          "#fb9f3a"
                        ],
                        [
                          0.8888888888888888,
                          "#fdca26"
                        ],
                        [
                          1,
                          "#f0f921"
                        ]
                      ]
                    },
                    "colorway": [
                      "#636efa",
                      "#EF553B",
                      "#00cc96",
                      "#ab63fa",
                      "#FFA15A",
                      "#19d3f3",
                      "#FF6692",
                      "#B6E880",
                      "#FF97FF",
                      "#FECB52"
                    ],
                    "font": {
                      "color": "#2a3f5f"
                    },
                    "geo": {
                      "bgcolor": "white",
                      "lakecolor": "white",
                      "landcolor": "#E5ECF6",
                      "showlakes": true,
                      "showland": true,
                      "subunitcolor": "white"
                    },
                    "hoverlabel": {
                      "align": "left"
                    },
                    "hovermode": "closest",
                    "mapbox": {
                      "style": "light"
                    },
                    "paper_bgcolor": "white",
                    "plot_bgcolor": "#E5ECF6",
                    "polar": {
                      "angularaxis": {
                        "gridcolor": "white",
                        "linecolor": "white",
                        "ticks": ""
                      },
                      "bgcolor": "#E5ECF6",
                      "radialaxis": {
                        "gridcolor": "white",
                        "linecolor": "white",
                        "ticks": ""
                      }
                    },
                    "scene": {
                      "xaxis": {
                        "backgroundcolor": "#E5ECF6",
                        "gridcolor": "white",
                        "gridwidth": 2,
                        "linecolor": "white",
                        "showbackground": true,
                        "ticks": "",
                        "zerolinecolor": "white"
                      },
                      "yaxis": {
                        "backgroundcolor": "#E5ECF6",
                        "gridcolor": "white",
                        "gridwidth": 2,
                        "linecolor": "white",
                        "showbackground": true,
                        "ticks": "",
                        "zerolinecolor": "white"
                      },
                      "zaxis": {
                        "backgroundcolor": "#E5ECF6",
                        "gridcolor": "white",
                        "gridwidth": 2,
                        "linecolor": "white",
                        "showbackground": true,
                        "ticks": "",
                        "zerolinecolor": "white"
                      }
                    },
                    "shapedefaults": {
                      "line": {
                        "color": "#2a3f5f"
                      }
                    },
                    "ternary": {
                      "aaxis": {
                        "gridcolor": "white",
                        "linecolor": "white",
                        "ticks": ""
                      },
                      "baxis": {
                        "gridcolor": "white",
                        "linecolor": "white",
                        "ticks": ""
                      },
                      "bgcolor": "#E5ECF6",
                      "caxis": {
                        "gridcolor": "white",
                        "linecolor": "white",
                        "ticks": ""
                      }
                    },
                    "title": {
                      "x": 0.05
                    },
                    "xaxis": {
                      "automargin": true,
                      "gridcolor": "white",
                      "linecolor": "white",
                      "ticks": "",
                      "title": {
                        "standoff": 15
                      },
                      "zerolinecolor": "white",
                      "zerolinewidth": 2
                    },
                    "yaxis": {
                      "automargin": true,
                      "gridcolor": "white",
                      "linecolor": "white",
                      "ticks": "",
                      "title": {
                        "standoff": 15
                      },
                      "zerolinecolor": "white",
                      "zerolinewidth": 2
                    }
                  }
                },
                "xaxis": {
                  "anchor": "y",
                  "domain": [
                    0,
                    1
                  ],
                  "title": {
                    "text": "bandeira"
                  }
                },
                "yaxis": {
                  "anchor": "x",
                  "domain": [
                    0,
                    1
                  ],
                  "title": {
                    "text": "idade"
                  }
                }
              }
            }
          },
          "metadata": {},
          "output_type": "display_data"
        }
      ],
      "source": [
        "px.bar(agg_idade_bandeira, x='bandeira', y='idade')\n",
        "\n"
      ]
    },
    {
      "cell_type": "code",
      "execution_count": null,
      "metadata": {
        "id": "uG07AYKtgrtU",
        "outputId": "5ff7a05f-24f3-4c46-a224-3085d4ce51cd"
      },
      "outputs": [
        {
          "data": {
            "application/vnd.plotly.v1+json": {
              "config": {
                "plotlyServerURL": "https://plot.ly"
              },
              "data": [
                {
                  "hovertemplate": "Data=%{x}<br>idcompra=%{y}<extra></extra>",
                  "legendgroup": "",
                  "line": {
                    "color": "#636efa",
                    "dash": "solid"
                  },
                  "marker": {
                    "symbol": "circle"
                  },
                  "mode": "lines",
                  "name": "",
                  "orientation": "v",
                  "showlegend": false,
                  "type": "scatter",
                  "x": [
                    "2023-01-02T00:00:00",
                    "2023-01-03T00:00:00",
                    "2023-01-04T00:00:00",
                    "2023-01-05T00:00:00",
                    "2023-01-06T00:00:00",
                    "2023-01-07T00:00:00",
                    "2023-01-08T00:00:00",
                    "2023-01-09T00:00:00",
                    "2023-01-10T00:00:00",
                    "2023-01-11T00:00:00",
                    "2023-01-12T00:00:00",
                    "2023-01-13T00:00:00",
                    "2023-01-14T00:00:00",
                    "2023-01-15T00:00:00",
                    "2023-01-16T00:00:00",
                    "2023-01-17T00:00:00",
                    "2023-01-18T00:00:00",
                    "2023-01-19T00:00:00",
                    "2023-01-20T00:00:00",
                    "2023-01-21T00:00:00",
                    "2023-01-22T00:00:00",
                    "2023-01-23T00:00:00",
                    "2023-01-24T00:00:00",
                    "2023-01-25T00:00:00",
                    "2023-01-26T00:00:00",
                    "2023-01-27T00:00:00",
                    "2023-01-28T00:00:00",
                    "2023-01-29T00:00:00",
                    "2023-01-30T00:00:00",
                    "2023-01-31T00:00:00",
                    "2023-02-01T00:00:00",
                    "2023-02-02T00:00:00",
                    "2023-02-03T00:00:00",
                    "2023-02-04T00:00:00",
                    "2023-02-05T00:00:00",
                    "2023-02-06T00:00:00",
                    "2023-02-07T00:00:00",
                    "2023-02-08T00:00:00",
                    "2023-02-09T00:00:00",
                    "2023-02-10T00:00:00",
                    "2023-02-11T00:00:00",
                    "2023-02-12T00:00:00",
                    "2023-02-13T00:00:00",
                    "2023-02-14T00:00:00",
                    "2023-02-15T00:00:00",
                    "2023-02-16T00:00:00",
                    "2023-02-17T00:00:00",
                    "2023-02-18T00:00:00",
                    "2023-02-19T00:00:00",
                    "2023-02-20T00:00:00",
                    "2023-02-21T00:00:00",
                    "2023-02-22T00:00:00",
                    "2023-02-23T00:00:00",
                    "2023-02-24T00:00:00",
                    "2023-02-25T00:00:00",
                    "2023-02-26T00:00:00",
                    "2023-02-27T00:00:00",
                    "2023-02-28T00:00:00",
                    "2023-03-01T00:00:00",
                    "2023-03-02T00:00:00",
                    "2023-03-03T00:00:00",
                    "2023-03-04T00:00:00",
                    "2023-03-05T00:00:00",
                    "2023-03-06T00:00:00",
                    "2023-03-07T00:00:00",
                    "2023-03-08T00:00:00",
                    "2023-03-09T00:00:00",
                    "2023-03-10T00:00:00",
                    "2023-03-11T00:00:00",
                    "2023-03-12T00:00:00",
                    "2023-03-13T00:00:00",
                    "2023-03-14T00:00:00",
                    "2023-03-15T00:00:00",
                    "2023-03-16T00:00:00",
                    "2023-03-17T00:00:00",
                    "2023-03-18T00:00:00",
                    "2023-03-19T00:00:00",
                    "2023-03-20T00:00:00",
                    "2023-03-21T00:00:00",
                    "2023-03-22T00:00:00",
                    "2023-03-23T00:00:00",
                    "2023-03-24T00:00:00",
                    "2023-03-25T00:00:00",
                    "2023-03-26T00:00:00",
                    "2023-03-27T00:00:00",
                    "2023-03-28T00:00:00",
                    "2023-03-29T00:00:00",
                    "2023-03-30T00:00:00",
                    "2023-03-31T00:00:00",
                    "2023-04-01T00:00:00",
                    "2023-04-02T00:00:00",
                    "2023-04-03T00:00:00",
                    "2023-04-04T00:00:00",
                    "2023-04-05T00:00:00",
                    "2023-04-06T00:00:00",
                    "2023-04-07T00:00:00",
                    "2023-04-08T00:00:00",
                    "2023-04-09T00:00:00",
                    "2023-04-10T00:00:00",
                    "2023-04-11T00:00:00",
                    "2023-04-12T00:00:00",
                    "2023-04-13T00:00:00",
                    "2023-04-14T00:00:00",
                    "2023-04-15T00:00:00",
                    "2023-04-16T00:00:00",
                    "2023-04-17T00:00:00",
                    "2023-04-18T00:00:00",
                    "2023-04-19T00:00:00",
                    "2023-04-20T00:00:00",
                    "2023-04-21T00:00:00",
                    "2023-04-22T00:00:00",
                    "2023-04-23T00:00:00",
                    "2023-04-24T00:00:00",
                    "2023-04-25T00:00:00",
                    "2023-04-26T00:00:00",
                    "2023-04-27T00:00:00",
                    "2023-04-28T00:00:00",
                    "2023-04-29T00:00:00",
                    "2023-04-30T00:00:00"
                  ],
                  "xaxis": "x",
                  "y": [
                    193,
                    163,
                    188,
                    204,
                    198,
                    175,
                    190,
                    187,
                    180,
                    164,
                    167,
                    189,
                    176,
                    162,
                    181,
                    168,
                    175,
                    179,
                    218,
                    187,
                    191,
                    163,
                    187,
                    193,
                    169,
                    207,
                    174,
                    163,
                    174,
                    190,
                    186,
                    183,
                    194,
                    195,
                    195,
                    183,
                    181,
                    163,
                    208,
                    208,
                    187,
                    152,
                    226,
                    181,
                    162,
                    178,
                    177,
                    200,
                    182,
                    214,
                    197,
                    156,
                    208,
                    212,
                    161,
                    194,
                    190,
                    185,
                    170,
                    189,
                    181,
                    191,
                    163,
                    198,
                    215,
                    191,
                    191,
                    194,
                    166,
                    199,
                    186,
                    204,
                    183,
                    188,
                    184,
                    187,
                    179,
                    182,
                    166,
                    170,
                    171,
                    194,
                    184,
                    193,
                    191,
                    162,
                    171,
                    214,
                    173,
                    191,
                    166,
                    179,
                    162,
                    191,
                    190,
                    195,
                    180,
                    182,
                    207,
                    184,
                    169,
                    188,
                    162,
                    182,
                    201,
                    201,
                    178,
                    198,
                    187,
                    170,
                    182,
                    178,
                    196,
                    183,
                    200,
                    212,
                    192,
                    187,
                    192
                  ],
                  "yaxis": "y"
                }
              ],
              "layout": {
                "legend": {
                  "tracegroupgap": 0
                },
                "margin": {
                  "t": 60
                },
                "template": {
                  "data": {
                    "bar": [
                      {
                        "error_x": {
                          "color": "#2a3f5f"
                        },
                        "error_y": {
                          "color": "#2a3f5f"
                        },
                        "marker": {
                          "line": {
                            "color": "#E5ECF6",
                            "width": 0.5
                          },
                          "pattern": {
                            "fillmode": "overlay",
                            "size": 10,
                            "solidity": 0.2
                          }
                        },
                        "type": "bar"
                      }
                    ],
                    "barpolar": [
                      {
                        "marker": {
                          "line": {
                            "color": "#E5ECF6",
                            "width": 0.5
                          },
                          "pattern": {
                            "fillmode": "overlay",
                            "size": 10,
                            "solidity": 0.2
                          }
                        },
                        "type": "barpolar"
                      }
                    ],
                    "carpet": [
                      {
                        "aaxis": {
                          "endlinecolor": "#2a3f5f",
                          "gridcolor": "white",
                          "linecolor": "white",
                          "minorgridcolor": "white",
                          "startlinecolor": "#2a3f5f"
                        },
                        "baxis": {
                          "endlinecolor": "#2a3f5f",
                          "gridcolor": "white",
                          "linecolor": "white",
                          "minorgridcolor": "white",
                          "startlinecolor": "#2a3f5f"
                        },
                        "type": "carpet"
                      }
                    ],
                    "choropleth": [
                      {
                        "colorbar": {
                          "outlinewidth": 0,
                          "ticks": ""
                        },
                        "type": "choropleth"
                      }
                    ],
                    "contour": [
                      {
                        "colorbar": {
                          "outlinewidth": 0,
                          "ticks": ""
                        },
                        "colorscale": [
                          [
                            0,
                            "#0d0887"
                          ],
                          [
                            0.1111111111111111,
                            "#46039f"
                          ],
                          [
                            0.2222222222222222,
                            "#7201a8"
                          ],
                          [
                            0.3333333333333333,
                            "#9c179e"
                          ],
                          [
                            0.4444444444444444,
                            "#bd3786"
                          ],
                          [
                            0.5555555555555556,
                            "#d8576b"
                          ],
                          [
                            0.6666666666666666,
                            "#ed7953"
                          ],
                          [
                            0.7777777777777778,
                            "#fb9f3a"
                          ],
                          [
                            0.8888888888888888,
                            "#fdca26"
                          ],
                          [
                            1,
                            "#f0f921"
                          ]
                        ],
                        "type": "contour"
                      }
                    ],
                    "contourcarpet": [
                      {
                        "colorbar": {
                          "outlinewidth": 0,
                          "ticks": ""
                        },
                        "type": "contourcarpet"
                      }
                    ],
                    "heatmap": [
                      {
                        "colorbar": {
                          "outlinewidth": 0,
                          "ticks": ""
                        },
                        "colorscale": [
                          [
                            0,
                            "#0d0887"
                          ],
                          [
                            0.1111111111111111,
                            "#46039f"
                          ],
                          [
                            0.2222222222222222,
                            "#7201a8"
                          ],
                          [
                            0.3333333333333333,
                            "#9c179e"
                          ],
                          [
                            0.4444444444444444,
                            "#bd3786"
                          ],
                          [
                            0.5555555555555556,
                            "#d8576b"
                          ],
                          [
                            0.6666666666666666,
                            "#ed7953"
                          ],
                          [
                            0.7777777777777778,
                            "#fb9f3a"
                          ],
                          [
                            0.8888888888888888,
                            "#fdca26"
                          ],
                          [
                            1,
                            "#f0f921"
                          ]
                        ],
                        "type": "heatmap"
                      }
                    ],
                    "heatmapgl": [
                      {
                        "colorbar": {
                          "outlinewidth": 0,
                          "ticks": ""
                        },
                        "colorscale": [
                          [
                            0,
                            "#0d0887"
                          ],
                          [
                            0.1111111111111111,
                            "#46039f"
                          ],
                          [
                            0.2222222222222222,
                            "#7201a8"
                          ],
                          [
                            0.3333333333333333,
                            "#9c179e"
                          ],
                          [
                            0.4444444444444444,
                            "#bd3786"
                          ],
                          [
                            0.5555555555555556,
                            "#d8576b"
                          ],
                          [
                            0.6666666666666666,
                            "#ed7953"
                          ],
                          [
                            0.7777777777777778,
                            "#fb9f3a"
                          ],
                          [
                            0.8888888888888888,
                            "#fdca26"
                          ],
                          [
                            1,
                            "#f0f921"
                          ]
                        ],
                        "type": "heatmapgl"
                      }
                    ],
                    "histogram": [
                      {
                        "marker": {
                          "pattern": {
                            "fillmode": "overlay",
                            "size": 10,
                            "solidity": 0.2
                          }
                        },
                        "type": "histogram"
                      }
                    ],
                    "histogram2d": [
                      {
                        "colorbar": {
                          "outlinewidth": 0,
                          "ticks": ""
                        },
                        "colorscale": [
                          [
                            0,
                            "#0d0887"
                          ],
                          [
                            0.1111111111111111,
                            "#46039f"
                          ],
                          [
                            0.2222222222222222,
                            "#7201a8"
                          ],
                          [
                            0.3333333333333333,
                            "#9c179e"
                          ],
                          [
                            0.4444444444444444,
                            "#bd3786"
                          ],
                          [
                            0.5555555555555556,
                            "#d8576b"
                          ],
                          [
                            0.6666666666666666,
                            "#ed7953"
                          ],
                          [
                            0.7777777777777778,
                            "#fb9f3a"
                          ],
                          [
                            0.8888888888888888,
                            "#fdca26"
                          ],
                          [
                            1,
                            "#f0f921"
                          ]
                        ],
                        "type": "histogram2d"
                      }
                    ],
                    "histogram2dcontour": [
                      {
                        "colorbar": {
                          "outlinewidth": 0,
                          "ticks": ""
                        },
                        "colorscale": [
                          [
                            0,
                            "#0d0887"
                          ],
                          [
                            0.1111111111111111,
                            "#46039f"
                          ],
                          [
                            0.2222222222222222,
                            "#7201a8"
                          ],
                          [
                            0.3333333333333333,
                            "#9c179e"
                          ],
                          [
                            0.4444444444444444,
                            "#bd3786"
                          ],
                          [
                            0.5555555555555556,
                            "#d8576b"
                          ],
                          [
                            0.6666666666666666,
                            "#ed7953"
                          ],
                          [
                            0.7777777777777778,
                            "#fb9f3a"
                          ],
                          [
                            0.8888888888888888,
                            "#fdca26"
                          ],
                          [
                            1,
                            "#f0f921"
                          ]
                        ],
                        "type": "histogram2dcontour"
                      }
                    ],
                    "mesh3d": [
                      {
                        "colorbar": {
                          "outlinewidth": 0,
                          "ticks": ""
                        },
                        "type": "mesh3d"
                      }
                    ],
                    "parcoords": [
                      {
                        "line": {
                          "colorbar": {
                            "outlinewidth": 0,
                            "ticks": ""
                          }
                        },
                        "type": "parcoords"
                      }
                    ],
                    "pie": [
                      {
                        "automargin": true,
                        "type": "pie"
                      }
                    ],
                    "scatter": [
                      {
                        "fillpattern": {
                          "fillmode": "overlay",
                          "size": 10,
                          "solidity": 0.2
                        },
                        "type": "scatter"
                      }
                    ],
                    "scatter3d": [
                      {
                        "line": {
                          "colorbar": {
                            "outlinewidth": 0,
                            "ticks": ""
                          }
                        },
                        "marker": {
                          "colorbar": {
                            "outlinewidth": 0,
                            "ticks": ""
                          }
                        },
                        "type": "scatter3d"
                      }
                    ],
                    "scattercarpet": [
                      {
                        "marker": {
                          "colorbar": {
                            "outlinewidth": 0,
                            "ticks": ""
                          }
                        },
                        "type": "scattercarpet"
                      }
                    ],
                    "scattergeo": [
                      {
                        "marker": {
                          "colorbar": {
                            "outlinewidth": 0,
                            "ticks": ""
                          }
                        },
                        "type": "scattergeo"
                      }
                    ],
                    "scattergl": [
                      {
                        "marker": {
                          "colorbar": {
                            "outlinewidth": 0,
                            "ticks": ""
                          }
                        },
                        "type": "scattergl"
                      }
                    ],
                    "scattermapbox": [
                      {
                        "marker": {
                          "colorbar": {
                            "outlinewidth": 0,
                            "ticks": ""
                          }
                        },
                        "type": "scattermapbox"
                      }
                    ],
                    "scatterpolar": [
                      {
                        "marker": {
                          "colorbar": {
                            "outlinewidth": 0,
                            "ticks": ""
                          }
                        },
                        "type": "scatterpolar"
                      }
                    ],
                    "scatterpolargl": [
                      {
                        "marker": {
                          "colorbar": {
                            "outlinewidth": 0,
                            "ticks": ""
                          }
                        },
                        "type": "scatterpolargl"
                      }
                    ],
                    "scatterternary": [
                      {
                        "marker": {
                          "colorbar": {
                            "outlinewidth": 0,
                            "ticks": ""
                          }
                        },
                        "type": "scatterternary"
                      }
                    ],
                    "surface": [
                      {
                        "colorbar": {
                          "outlinewidth": 0,
                          "ticks": ""
                        },
                        "colorscale": [
                          [
                            0,
                            "#0d0887"
                          ],
                          [
                            0.1111111111111111,
                            "#46039f"
                          ],
                          [
                            0.2222222222222222,
                            "#7201a8"
                          ],
                          [
                            0.3333333333333333,
                            "#9c179e"
                          ],
                          [
                            0.4444444444444444,
                            "#bd3786"
                          ],
                          [
                            0.5555555555555556,
                            "#d8576b"
                          ],
                          [
                            0.6666666666666666,
                            "#ed7953"
                          ],
                          [
                            0.7777777777777778,
                            "#fb9f3a"
                          ],
                          [
                            0.8888888888888888,
                            "#fdca26"
                          ],
                          [
                            1,
                            "#f0f921"
                          ]
                        ],
                        "type": "surface"
                      }
                    ],
                    "table": [
                      {
                        "cells": {
                          "fill": {
                            "color": "#EBF0F8"
                          },
                          "line": {
                            "color": "white"
                          }
                        },
                        "header": {
                          "fill": {
                            "color": "#C8D4E3"
                          },
                          "line": {
                            "color": "white"
                          }
                        },
                        "type": "table"
                      }
                    ]
                  },
                  "layout": {
                    "annotationdefaults": {
                      "arrowcolor": "#2a3f5f",
                      "arrowhead": 0,
                      "arrowwidth": 1
                    },
                    "autotypenumbers": "strict",
                    "coloraxis": {
                      "colorbar": {
                        "outlinewidth": 0,
                        "ticks": ""
                      }
                    },
                    "colorscale": {
                      "diverging": [
                        [
                          0,
                          "#8e0152"
                        ],
                        [
                          0.1,
                          "#c51b7d"
                        ],
                        [
                          0.2,
                          "#de77ae"
                        ],
                        [
                          0.3,
                          "#f1b6da"
                        ],
                        [
                          0.4,
                          "#fde0ef"
                        ],
                        [
                          0.5,
                          "#f7f7f7"
                        ],
                        [
                          0.6,
                          "#e6f5d0"
                        ],
                        [
                          0.7,
                          "#b8e186"
                        ],
                        [
                          0.8,
                          "#7fbc41"
                        ],
                        [
                          0.9,
                          "#4d9221"
                        ],
                        [
                          1,
                          "#276419"
                        ]
                      ],
                      "sequential": [
                        [
                          0,
                          "#0d0887"
                        ],
                        [
                          0.1111111111111111,
                          "#46039f"
                        ],
                        [
                          0.2222222222222222,
                          "#7201a8"
                        ],
                        [
                          0.3333333333333333,
                          "#9c179e"
                        ],
                        [
                          0.4444444444444444,
                          "#bd3786"
                        ],
                        [
                          0.5555555555555556,
                          "#d8576b"
                        ],
                        [
                          0.6666666666666666,
                          "#ed7953"
                        ],
                        [
                          0.7777777777777778,
                          "#fb9f3a"
                        ],
                        [
                          0.8888888888888888,
                          "#fdca26"
                        ],
                        [
                          1,
                          "#f0f921"
                        ]
                      ],
                      "sequentialminus": [
                        [
                          0,
                          "#0d0887"
                        ],
                        [
                          0.1111111111111111,
                          "#46039f"
                        ],
                        [
                          0.2222222222222222,
                          "#7201a8"
                        ],
                        [
                          0.3333333333333333,
                          "#9c179e"
                        ],
                        [
                          0.4444444444444444,
                          "#bd3786"
                        ],
                        [
                          0.5555555555555556,
                          "#d8576b"
                        ],
                        [
                          0.6666666666666666,
                          "#ed7953"
                        ],
                        [
                          0.7777777777777778,
                          "#fb9f3a"
                        ],
                        [
                          0.8888888888888888,
                          "#fdca26"
                        ],
                        [
                          1,
                          "#f0f921"
                        ]
                      ]
                    },
                    "colorway": [
                      "#636efa",
                      "#EF553B",
                      "#00cc96",
                      "#ab63fa",
                      "#FFA15A",
                      "#19d3f3",
                      "#FF6692",
                      "#B6E880",
                      "#FF97FF",
                      "#FECB52"
                    ],
                    "font": {
                      "color": "#2a3f5f"
                    },
                    "geo": {
                      "bgcolor": "white",
                      "lakecolor": "white",
                      "landcolor": "#E5ECF6",
                      "showlakes": true,
                      "showland": true,
                      "subunitcolor": "white"
                    },
                    "hoverlabel": {
                      "align": "left"
                    },
                    "hovermode": "closest",
                    "mapbox": {
                      "style": "light"
                    },
                    "paper_bgcolor": "white",
                    "plot_bgcolor": "#E5ECF6",
                    "polar": {
                      "angularaxis": {
                        "gridcolor": "white",
                        "linecolor": "white",
                        "ticks": ""
                      },
                      "bgcolor": "#E5ECF6",
                      "radialaxis": {
                        "gridcolor": "white",
                        "linecolor": "white",
                        "ticks": ""
                      }
                    },
                    "scene": {
                      "xaxis": {
                        "backgroundcolor": "#E5ECF6",
                        "gridcolor": "white",
                        "gridwidth": 2,
                        "linecolor": "white",
                        "showbackground": true,
                        "ticks": "",
                        "zerolinecolor": "white"
                      },
                      "yaxis": {
                        "backgroundcolor": "#E5ECF6",
                        "gridcolor": "white",
                        "gridwidth": 2,
                        "linecolor": "white",
                        "showbackground": true,
                        "ticks": "",
                        "zerolinecolor": "white"
                      },
                      "zaxis": {
                        "backgroundcolor": "#E5ECF6",
                        "gridcolor": "white",
                        "gridwidth": 2,
                        "linecolor": "white",
                        "showbackground": true,
                        "ticks": "",
                        "zerolinecolor": "white"
                      }
                    },
                    "shapedefaults": {
                      "line": {
                        "color": "#2a3f5f"
                      }
                    },
                    "ternary": {
                      "aaxis": {
                        "gridcolor": "white",
                        "linecolor": "white",
                        "ticks": ""
                      },
                      "baxis": {
                        "gridcolor": "white",
                        "linecolor": "white",
                        "ticks": ""
                      },
                      "bgcolor": "#E5ECF6",
                      "caxis": {
                        "gridcolor": "white",
                        "linecolor": "white",
                        "ticks": ""
                      }
                    },
                    "title": {
                      "x": 0.05
                    },
                    "xaxis": {
                      "automargin": true,
                      "gridcolor": "white",
                      "linecolor": "white",
                      "ticks": "",
                      "title": {
                        "standoff": 15
                      },
                      "zerolinecolor": "white",
                      "zerolinewidth": 2
                    },
                    "yaxis": {
                      "automargin": true,
                      "gridcolor": "white",
                      "linecolor": "white",
                      "ticks": "",
                      "title": {
                        "standoff": 15
                      },
                      "zerolinecolor": "white",
                      "zerolinewidth": 2
                    }
                  }
                },
                "xaxis": {
                  "anchor": "y",
                  "domain": [
                    0,
                    1
                  ],
                  "title": {
                    "text": "Data"
                  }
                },
                "yaxis": {
                  "anchor": "x",
                  "domain": [
                    0,
                    1
                  ],
                  "title": {
                    "text": "idcompra"
                  }
                }
              }
            }
          },
          "metadata": {},
          "output_type": "display_data"
        }
      ],
      "source": [
        "px.line(vendas_por_data, x=\"Data\", y=\"idcompra\")\n"
      ]
    },
    {
      "cell_type": "code",
      "execution_count": null,
      "metadata": {
        "id": "xLhoXEd4grtU",
        "outputId": "395d8d8a-d192-41c3-ddfe-5564db06e034"
      },
      "outputs": [
        {
          "data": {
            "application/vnd.plotly.v1+json": {
              "config": {
                "plotlyServerURL": "https://plot.ly"
              },
              "data": [
                {
                  "alignmentgroup": "True",
                  "hovertemplate": "Nome_Departamento=%{x}<br>Preço_com_frete=%{y}<extra></extra>",
                  "legendgroup": "",
                  "marker": {
                    "color": "#636efa",
                    "pattern": {
                      "shape": ""
                    }
                  },
                  "name": "",
                  "offsetgroup": "",
                  "orientation": "v",
                  "showlegend": false,
                  "textposition": "auto",
                  "type": "bar",
                  "x": [
                    "TVs_e_Acessorios",
                    "Informatica",
                    "Linha_Industrial",
                    "Cine_e_Foto",
                    "Telefones_e_Celulares",
                    "Eletrodomesticos",
                    "Esporte_e_Lazer",
                    "Tablets",
                    "Games",
                    "Instrumentos_Musicais",
                    "Automotivo",
                    "Moveis",
                    "Ar_e_Ventilacao",
                    "Audio",
                    "Casa_e_Construcao",
                    "Pet_Shop",
                    "Acessorios_e_Inovacoes",
                    "Eletroportateis",
                    "Ferramentas",
                    "Cama,_Mesa_e_Banho",
                    "Malas_e_Mochilas",
                    "Relogios",
                    "Brinquedos",
                    "Utilidades_Domesticas",
                    "Decoracao",
                    "Bebes",
                    "Beleza_e_Saude",
                    "Alimentos",
                    "Perfumaria",
                    "Produtos_de_Limpeza",
                    "Moda"
                  ],
                  "xaxis": "x",
                  "y": [
                    3469.38,
                    2159.78,
                    2027.11,
                    1851.2,
                    1442.19,
                    1400.66,
                    1123.14,
                    1100.23,
                    942.9,
                    834.61,
                    681.57,
                    541.03,
                    518.79,
                    480.35,
                    433.53,
                    237.26,
                    229.14,
                    223.77,
                    217.59,
                    210.7,
                    194.26,
                    186.95,
                    176.45,
                    155.02,
                    144.5,
                    130.9,
                    119.59,
                    104.24,
                    80.91,
                    68.79,
                    47.01
                  ],
                  "yaxis": "y"
                }
              ],
              "layout": {
                "barmode": "relative",
                "legend": {
                  "tracegroupgap": 0
                },
                "margin": {
                  "t": 60
                },
                "template": {
                  "data": {
                    "bar": [
                      {
                        "error_x": {
                          "color": "#2a3f5f"
                        },
                        "error_y": {
                          "color": "#2a3f5f"
                        },
                        "marker": {
                          "line": {
                            "color": "#E5ECF6",
                            "width": 0.5
                          },
                          "pattern": {
                            "fillmode": "overlay",
                            "size": 10,
                            "solidity": 0.2
                          }
                        },
                        "type": "bar"
                      }
                    ],
                    "barpolar": [
                      {
                        "marker": {
                          "line": {
                            "color": "#E5ECF6",
                            "width": 0.5
                          },
                          "pattern": {
                            "fillmode": "overlay",
                            "size": 10,
                            "solidity": 0.2
                          }
                        },
                        "type": "barpolar"
                      }
                    ],
                    "carpet": [
                      {
                        "aaxis": {
                          "endlinecolor": "#2a3f5f",
                          "gridcolor": "white",
                          "linecolor": "white",
                          "minorgridcolor": "white",
                          "startlinecolor": "#2a3f5f"
                        },
                        "baxis": {
                          "endlinecolor": "#2a3f5f",
                          "gridcolor": "white",
                          "linecolor": "white",
                          "minorgridcolor": "white",
                          "startlinecolor": "#2a3f5f"
                        },
                        "type": "carpet"
                      }
                    ],
                    "choropleth": [
                      {
                        "colorbar": {
                          "outlinewidth": 0,
                          "ticks": ""
                        },
                        "type": "choropleth"
                      }
                    ],
                    "contour": [
                      {
                        "colorbar": {
                          "outlinewidth": 0,
                          "ticks": ""
                        },
                        "colorscale": [
                          [
                            0,
                            "#0d0887"
                          ],
                          [
                            0.1111111111111111,
                            "#46039f"
                          ],
                          [
                            0.2222222222222222,
                            "#7201a8"
                          ],
                          [
                            0.3333333333333333,
                            "#9c179e"
                          ],
                          [
                            0.4444444444444444,
                            "#bd3786"
                          ],
                          [
                            0.5555555555555556,
                            "#d8576b"
                          ],
                          [
                            0.6666666666666666,
                            "#ed7953"
                          ],
                          [
                            0.7777777777777778,
                            "#fb9f3a"
                          ],
                          [
                            0.8888888888888888,
                            "#fdca26"
                          ],
                          [
                            1,
                            "#f0f921"
                          ]
                        ],
                        "type": "contour"
                      }
                    ],
                    "contourcarpet": [
                      {
                        "colorbar": {
                          "outlinewidth": 0,
                          "ticks": ""
                        },
                        "type": "contourcarpet"
                      }
                    ],
                    "heatmap": [
                      {
                        "colorbar": {
                          "outlinewidth": 0,
                          "ticks": ""
                        },
                        "colorscale": [
                          [
                            0,
                            "#0d0887"
                          ],
                          [
                            0.1111111111111111,
                            "#46039f"
                          ],
                          [
                            0.2222222222222222,
                            "#7201a8"
                          ],
                          [
                            0.3333333333333333,
                            "#9c179e"
                          ],
                          [
                            0.4444444444444444,
                            "#bd3786"
                          ],
                          [
                            0.5555555555555556,
                            "#d8576b"
                          ],
                          [
                            0.6666666666666666,
                            "#ed7953"
                          ],
                          [
                            0.7777777777777778,
                            "#fb9f3a"
                          ],
                          [
                            0.8888888888888888,
                            "#fdca26"
                          ],
                          [
                            1,
                            "#f0f921"
                          ]
                        ],
                        "type": "heatmap"
                      }
                    ],
                    "heatmapgl": [
                      {
                        "colorbar": {
                          "outlinewidth": 0,
                          "ticks": ""
                        },
                        "colorscale": [
                          [
                            0,
                            "#0d0887"
                          ],
                          [
                            0.1111111111111111,
                            "#46039f"
                          ],
                          [
                            0.2222222222222222,
                            "#7201a8"
                          ],
                          [
                            0.3333333333333333,
                            "#9c179e"
                          ],
                          [
                            0.4444444444444444,
                            "#bd3786"
                          ],
                          [
                            0.5555555555555556,
                            "#d8576b"
                          ],
                          [
                            0.6666666666666666,
                            "#ed7953"
                          ],
                          [
                            0.7777777777777778,
                            "#fb9f3a"
                          ],
                          [
                            0.8888888888888888,
                            "#fdca26"
                          ],
                          [
                            1,
                            "#f0f921"
                          ]
                        ],
                        "type": "heatmapgl"
                      }
                    ],
                    "histogram": [
                      {
                        "marker": {
                          "pattern": {
                            "fillmode": "overlay",
                            "size": 10,
                            "solidity": 0.2
                          }
                        },
                        "type": "histogram"
                      }
                    ],
                    "histogram2d": [
                      {
                        "colorbar": {
                          "outlinewidth": 0,
                          "ticks": ""
                        },
                        "colorscale": [
                          [
                            0,
                            "#0d0887"
                          ],
                          [
                            0.1111111111111111,
                            "#46039f"
                          ],
                          [
                            0.2222222222222222,
                            "#7201a8"
                          ],
                          [
                            0.3333333333333333,
                            "#9c179e"
                          ],
                          [
                            0.4444444444444444,
                            "#bd3786"
                          ],
                          [
                            0.5555555555555556,
                            "#d8576b"
                          ],
                          [
                            0.6666666666666666,
                            "#ed7953"
                          ],
                          [
                            0.7777777777777778,
                            "#fb9f3a"
                          ],
                          [
                            0.8888888888888888,
                            "#fdca26"
                          ],
                          [
                            1,
                            "#f0f921"
                          ]
                        ],
                        "type": "histogram2d"
                      }
                    ],
                    "histogram2dcontour": [
                      {
                        "colorbar": {
                          "outlinewidth": 0,
                          "ticks": ""
                        },
                        "colorscale": [
                          [
                            0,
                            "#0d0887"
                          ],
                          [
                            0.1111111111111111,
                            "#46039f"
                          ],
                          [
                            0.2222222222222222,
                            "#7201a8"
                          ],
                          [
                            0.3333333333333333,
                            "#9c179e"
                          ],
                          [
                            0.4444444444444444,
                            "#bd3786"
                          ],
                          [
                            0.5555555555555556,
                            "#d8576b"
                          ],
                          [
                            0.6666666666666666,
                            "#ed7953"
                          ],
                          [
                            0.7777777777777778,
                            "#fb9f3a"
                          ],
                          [
                            0.8888888888888888,
                            "#fdca26"
                          ],
                          [
                            1,
                            "#f0f921"
                          ]
                        ],
                        "type": "histogram2dcontour"
                      }
                    ],
                    "mesh3d": [
                      {
                        "colorbar": {
                          "outlinewidth": 0,
                          "ticks": ""
                        },
                        "type": "mesh3d"
                      }
                    ],
                    "parcoords": [
                      {
                        "line": {
                          "colorbar": {
                            "outlinewidth": 0,
                            "ticks": ""
                          }
                        },
                        "type": "parcoords"
                      }
                    ],
                    "pie": [
                      {
                        "automargin": true,
                        "type": "pie"
                      }
                    ],
                    "scatter": [
                      {
                        "fillpattern": {
                          "fillmode": "overlay",
                          "size": 10,
                          "solidity": 0.2
                        },
                        "type": "scatter"
                      }
                    ],
                    "scatter3d": [
                      {
                        "line": {
                          "colorbar": {
                            "outlinewidth": 0,
                            "ticks": ""
                          }
                        },
                        "marker": {
                          "colorbar": {
                            "outlinewidth": 0,
                            "ticks": ""
                          }
                        },
                        "type": "scatter3d"
                      }
                    ],
                    "scattercarpet": [
                      {
                        "marker": {
                          "colorbar": {
                            "outlinewidth": 0,
                            "ticks": ""
                          }
                        },
                        "type": "scattercarpet"
                      }
                    ],
                    "scattergeo": [
                      {
                        "marker": {
                          "colorbar": {
                            "outlinewidth": 0,
                            "ticks": ""
                          }
                        },
                        "type": "scattergeo"
                      }
                    ],
                    "scattergl": [
                      {
                        "marker": {
                          "colorbar": {
                            "outlinewidth": 0,
                            "ticks": ""
                          }
                        },
                        "type": "scattergl"
                      }
                    ],
                    "scattermapbox": [
                      {
                        "marker": {
                          "colorbar": {
                            "outlinewidth": 0,
                            "ticks": ""
                          }
                        },
                        "type": "scattermapbox"
                      }
                    ],
                    "scatterpolar": [
                      {
                        "marker": {
                          "colorbar": {
                            "outlinewidth": 0,
                            "ticks": ""
                          }
                        },
                        "type": "scatterpolar"
                      }
                    ],
                    "scatterpolargl": [
                      {
                        "marker": {
                          "colorbar": {
                            "outlinewidth": 0,
                            "ticks": ""
                          }
                        },
                        "type": "scatterpolargl"
                      }
                    ],
                    "scatterternary": [
                      {
                        "marker": {
                          "colorbar": {
                            "outlinewidth": 0,
                            "ticks": ""
                          }
                        },
                        "type": "scatterternary"
                      }
                    ],
                    "surface": [
                      {
                        "colorbar": {
                          "outlinewidth": 0,
                          "ticks": ""
                        },
                        "colorscale": [
                          [
                            0,
                            "#0d0887"
                          ],
                          [
                            0.1111111111111111,
                            "#46039f"
                          ],
                          [
                            0.2222222222222222,
                            "#7201a8"
                          ],
                          [
                            0.3333333333333333,
                            "#9c179e"
                          ],
                          [
                            0.4444444444444444,
                            "#bd3786"
                          ],
                          [
                            0.5555555555555556,
                            "#d8576b"
                          ],
                          [
                            0.6666666666666666,
                            "#ed7953"
                          ],
                          [
                            0.7777777777777778,
                            "#fb9f3a"
                          ],
                          [
                            0.8888888888888888,
                            "#fdca26"
                          ],
                          [
                            1,
                            "#f0f921"
                          ]
                        ],
                        "type": "surface"
                      }
                    ],
                    "table": [
                      {
                        "cells": {
                          "fill": {
                            "color": "#EBF0F8"
                          },
                          "line": {
                            "color": "white"
                          }
                        },
                        "header": {
                          "fill": {
                            "color": "#C8D4E3"
                          },
                          "line": {
                            "color": "white"
                          }
                        },
                        "type": "table"
                      }
                    ]
                  },
                  "layout": {
                    "annotationdefaults": {
                      "arrowcolor": "#2a3f5f",
                      "arrowhead": 0,
                      "arrowwidth": 1
                    },
                    "autotypenumbers": "strict",
                    "coloraxis": {
                      "colorbar": {
                        "outlinewidth": 0,
                        "ticks": ""
                      }
                    },
                    "colorscale": {
                      "diverging": [
                        [
                          0,
                          "#8e0152"
                        ],
                        [
                          0.1,
                          "#c51b7d"
                        ],
                        [
                          0.2,
                          "#de77ae"
                        ],
                        [
                          0.3,
                          "#f1b6da"
                        ],
                        [
                          0.4,
                          "#fde0ef"
                        ],
                        [
                          0.5,
                          "#f7f7f7"
                        ],
                        [
                          0.6,
                          "#e6f5d0"
                        ],
                        [
                          0.7,
                          "#b8e186"
                        ],
                        [
                          0.8,
                          "#7fbc41"
                        ],
                        [
                          0.9,
                          "#4d9221"
                        ],
                        [
                          1,
                          "#276419"
                        ]
                      ],
                      "sequential": [
                        [
                          0,
                          "#0d0887"
                        ],
                        [
                          0.1111111111111111,
                          "#46039f"
                        ],
                        [
                          0.2222222222222222,
                          "#7201a8"
                        ],
                        [
                          0.3333333333333333,
                          "#9c179e"
                        ],
                        [
                          0.4444444444444444,
                          "#bd3786"
                        ],
                        [
                          0.5555555555555556,
                          "#d8576b"
                        ],
                        [
                          0.6666666666666666,
                          "#ed7953"
                        ],
                        [
                          0.7777777777777778,
                          "#fb9f3a"
                        ],
                        [
                          0.8888888888888888,
                          "#fdca26"
                        ],
                        [
                          1,
                          "#f0f921"
                        ]
                      ],
                      "sequentialminus": [
                        [
                          0,
                          "#0d0887"
                        ],
                        [
                          0.1111111111111111,
                          "#46039f"
                        ],
                        [
                          0.2222222222222222,
                          "#7201a8"
                        ],
                        [
                          0.3333333333333333,
                          "#9c179e"
                        ],
                        [
                          0.4444444444444444,
                          "#bd3786"
                        ],
                        [
                          0.5555555555555556,
                          "#d8576b"
                        ],
                        [
                          0.6666666666666666,
                          "#ed7953"
                        ],
                        [
                          0.7777777777777778,
                          "#fb9f3a"
                        ],
                        [
                          0.8888888888888888,
                          "#fdca26"
                        ],
                        [
                          1,
                          "#f0f921"
                        ]
                      ]
                    },
                    "colorway": [
                      "#636efa",
                      "#EF553B",
                      "#00cc96",
                      "#ab63fa",
                      "#FFA15A",
                      "#19d3f3",
                      "#FF6692",
                      "#B6E880",
                      "#FF97FF",
                      "#FECB52"
                    ],
                    "font": {
                      "color": "#2a3f5f"
                    },
                    "geo": {
                      "bgcolor": "white",
                      "lakecolor": "white",
                      "landcolor": "#E5ECF6",
                      "showlakes": true,
                      "showland": true,
                      "subunitcolor": "white"
                    },
                    "hoverlabel": {
                      "align": "left"
                    },
                    "hovermode": "closest",
                    "mapbox": {
                      "style": "light"
                    },
                    "paper_bgcolor": "white",
                    "plot_bgcolor": "#E5ECF6",
                    "polar": {
                      "angularaxis": {
                        "gridcolor": "white",
                        "linecolor": "white",
                        "ticks": ""
                      },
                      "bgcolor": "#E5ECF6",
                      "radialaxis": {
                        "gridcolor": "white",
                        "linecolor": "white",
                        "ticks": ""
                      }
                    },
                    "scene": {
                      "xaxis": {
                        "backgroundcolor": "#E5ECF6",
                        "gridcolor": "white",
                        "gridwidth": 2,
                        "linecolor": "white",
                        "showbackground": true,
                        "ticks": "",
                        "zerolinecolor": "white"
                      },
                      "yaxis": {
                        "backgroundcolor": "#E5ECF6",
                        "gridcolor": "white",
                        "gridwidth": 2,
                        "linecolor": "white",
                        "showbackground": true,
                        "ticks": "",
                        "zerolinecolor": "white"
                      },
                      "zaxis": {
                        "backgroundcolor": "#E5ECF6",
                        "gridcolor": "white",
                        "gridwidth": 2,
                        "linecolor": "white",
                        "showbackground": true,
                        "ticks": "",
                        "zerolinecolor": "white"
                      }
                    },
                    "shapedefaults": {
                      "line": {
                        "color": "#2a3f5f"
                      }
                    },
                    "ternary": {
                      "aaxis": {
                        "gridcolor": "white",
                        "linecolor": "white",
                        "ticks": ""
                      },
                      "baxis": {
                        "gridcolor": "white",
                        "linecolor": "white",
                        "ticks": ""
                      },
                      "bgcolor": "#E5ECF6",
                      "caxis": {
                        "gridcolor": "white",
                        "linecolor": "white",
                        "ticks": ""
                      }
                    },
                    "title": {
                      "x": 0.05
                    },
                    "xaxis": {
                      "automargin": true,
                      "gridcolor": "white",
                      "linecolor": "white",
                      "ticks": "",
                      "title": {
                        "standoff": 15
                      },
                      "zerolinecolor": "white",
                      "zerolinewidth": 2
                    },
                    "yaxis": {
                      "automargin": true,
                      "gridcolor": "white",
                      "linecolor": "white",
                      "ticks": "",
                      "title": {
                        "standoff": 15
                      },
                      "zerolinecolor": "white",
                      "zerolinewidth": 2
                    }
                  }
                },
                "xaxis": {
                  "anchor": "y",
                  "domain": [
                    0,
                    1
                  ],
                  "title": {
                    "text": "Nome_Departamento"
                  }
                },
                "yaxis": {
                  "anchor": "x",
                  "domain": [
                    0,
                    1
                  ],
                  "title": {
                    "text": "Preço_com_frete"
                  }
                }
              }
            }
          },
          "metadata": {},
          "output_type": "display_data"
        }
      ],
      "source": [
        "px.bar(agg_dept_preco, x=\"Nome_Departamento\", y=\"Preço_com_frete\")"
      ]
    }
  ],
  "metadata": {
    "kernelspec": {
      "display_name": "dnc",
      "language": "python",
      "name": "python3"
    },
    "language_info": {
      "codemirror_mode": {
        "name": "ipython",
        "version": 3
      },
      "file_extension": ".py",
      "mimetype": "text/x-python",
      "name": "python",
      "nbconvert_exporter": "python",
      "pygments_lexer": "ipython3",
      "version": "3.9.19"
    },
    "colab": {
      "provenance": [],
      "include_colab_link": true
    }
  },
  "nbformat": 4,
  "nbformat_minor": 0
}